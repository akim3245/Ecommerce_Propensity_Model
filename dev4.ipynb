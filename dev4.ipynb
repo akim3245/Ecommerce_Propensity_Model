{
 "cells": [
  {
   "cell_type": "code",
   "execution_count": 1,
   "metadata": {},
   "outputs": [],
   "source": [
    "#import libraries\n",
    "import pandas as pd\n",
    "import numpy as np\n",
    "import seaborn as sns\n",
    "import matplotlib.pyplot as plt\n",
    "%matplotlib inline\n",
    "sns.set()"
   ]
  },
  {
   "cell_type": "code",
   "execution_count": 2,
   "metadata": {},
   "outputs": [
    {
     "data": {
      "text/html": [
       "<div>\n",
       "<style scoped>\n",
       "    .dataframe tbody tr th:only-of-type {\n",
       "        vertical-align: middle;\n",
       "    }\n",
       "\n",
       "    .dataframe tbody tr th {\n",
       "        vertical-align: top;\n",
       "    }\n",
       "\n",
       "    .dataframe thead th {\n",
       "        text-align: right;\n",
       "    }\n",
       "</style>\n",
       "<table border=\"1\" class=\"dataframe\">\n",
       "  <thead>\n",
       "    <tr style=\"text-align: right;\">\n",
       "      <th></th>\n",
       "      <th>UserID</th>\n",
       "      <th>basket_icon_click</th>\n",
       "      <th>basket_add_list</th>\n",
       "      <th>basket_add_detail</th>\n",
       "      <th>sort_by</th>\n",
       "      <th>image_picker</th>\n",
       "      <th>account_page_click</th>\n",
       "      <th>promo_banner_click</th>\n",
       "      <th>detail_wishlist_add</th>\n",
       "      <th>list_size_dropdown</th>\n",
       "      <th>...</th>\n",
       "      <th>saw_sizecharts</th>\n",
       "      <th>saw_delivery</th>\n",
       "      <th>saw_account_upgrade</th>\n",
       "      <th>saw_homepage</th>\n",
       "      <th>device_mobile</th>\n",
       "      <th>device_computer</th>\n",
       "      <th>device_tablet</th>\n",
       "      <th>returning_user</th>\n",
       "      <th>loc_uk</th>\n",
       "      <th>ordered</th>\n",
       "    </tr>\n",
       "  </thead>\n",
       "  <tbody>\n",
       "    <tr>\n",
       "      <th>0</th>\n",
       "      <td>a720-6b732349-a720-4862-bd21-644732</td>\n",
       "      <td>0</td>\n",
       "      <td>0</td>\n",
       "      <td>0</td>\n",
       "      <td>0</td>\n",
       "      <td>0</td>\n",
       "      <td>0</td>\n",
       "      <td>0</td>\n",
       "      <td>0</td>\n",
       "      <td>0</td>\n",
       "      <td>...</td>\n",
       "      <td>0</td>\n",
       "      <td>0</td>\n",
       "      <td>0</td>\n",
       "      <td>0</td>\n",
       "      <td>1</td>\n",
       "      <td>0</td>\n",
       "      <td>0</td>\n",
       "      <td>0</td>\n",
       "      <td>1</td>\n",
       "      <td>0</td>\n",
       "    </tr>\n",
       "    <tr>\n",
       "      <th>1</th>\n",
       "      <td>a0c0-6b73247c-a0c0-4bd9-8baa-797356</td>\n",
       "      <td>0</td>\n",
       "      <td>0</td>\n",
       "      <td>0</td>\n",
       "      <td>0</td>\n",
       "      <td>0</td>\n",
       "      <td>0</td>\n",
       "      <td>0</td>\n",
       "      <td>0</td>\n",
       "      <td>0</td>\n",
       "      <td>...</td>\n",
       "      <td>0</td>\n",
       "      <td>0</td>\n",
       "      <td>0</td>\n",
       "      <td>0</td>\n",
       "      <td>1</td>\n",
       "      <td>0</td>\n",
       "      <td>0</td>\n",
       "      <td>0</td>\n",
       "      <td>1</td>\n",
       "      <td>0</td>\n",
       "    </tr>\n",
       "    <tr>\n",
       "      <th>2</th>\n",
       "      <td>86a8-6b735c67-86a8-407b-ba24-333055</td>\n",
       "      <td>0</td>\n",
       "      <td>0</td>\n",
       "      <td>0</td>\n",
       "      <td>0</td>\n",
       "      <td>0</td>\n",
       "      <td>0</td>\n",
       "      <td>0</td>\n",
       "      <td>0</td>\n",
       "      <td>0</td>\n",
       "      <td>...</td>\n",
       "      <td>0</td>\n",
       "      <td>0</td>\n",
       "      <td>0</td>\n",
       "      <td>0</td>\n",
       "      <td>1</td>\n",
       "      <td>0</td>\n",
       "      <td>0</td>\n",
       "      <td>1</td>\n",
       "      <td>1</td>\n",
       "      <td>0</td>\n",
       "    </tr>\n",
       "    <tr>\n",
       "      <th>3</th>\n",
       "      <td>6a3d-6b736346-6a3d-4085-934b-396834</td>\n",
       "      <td>0</td>\n",
       "      <td>0</td>\n",
       "      <td>0</td>\n",
       "      <td>0</td>\n",
       "      <td>0</td>\n",
       "      <td>0</td>\n",
       "      <td>0</td>\n",
       "      <td>0</td>\n",
       "      <td>0</td>\n",
       "      <td>...</td>\n",
       "      <td>0</td>\n",
       "      <td>0</td>\n",
       "      <td>0</td>\n",
       "      <td>0</td>\n",
       "      <td>1</td>\n",
       "      <td>0</td>\n",
       "      <td>0</td>\n",
       "      <td>1</td>\n",
       "      <td>1</td>\n",
       "      <td>0</td>\n",
       "    </tr>\n",
       "    <tr>\n",
       "      <th>4</th>\n",
       "      <td>b74a-6b737717-b74a-45c3-8c6a-421140</td>\n",
       "      <td>0</td>\n",
       "      <td>1</td>\n",
       "      <td>0</td>\n",
       "      <td>1</td>\n",
       "      <td>0</td>\n",
       "      <td>0</td>\n",
       "      <td>0</td>\n",
       "      <td>0</td>\n",
       "      <td>1</td>\n",
       "      <td>...</td>\n",
       "      <td>0</td>\n",
       "      <td>0</td>\n",
       "      <td>0</td>\n",
       "      <td>1</td>\n",
       "      <td>0</td>\n",
       "      <td>0</td>\n",
       "      <td>1</td>\n",
       "      <td>0</td>\n",
       "      <td>1</td>\n",
       "      <td>1</td>\n",
       "    </tr>\n",
       "  </tbody>\n",
       "</table>\n",
       "<p>5 rows × 25 columns</p>\n",
       "</div>"
      ],
      "text/plain": [
       "                                UserID  basket_icon_click  basket_add_list  \\\n",
       "0  a720-6b732349-a720-4862-bd21-644732                  0                0   \n",
       "1  a0c0-6b73247c-a0c0-4bd9-8baa-797356                  0                0   \n",
       "2  86a8-6b735c67-86a8-407b-ba24-333055                  0                0   \n",
       "3  6a3d-6b736346-6a3d-4085-934b-396834                  0                0   \n",
       "4  b74a-6b737717-b74a-45c3-8c6a-421140                  0                1   \n",
       "\n",
       "   basket_add_detail  sort_by  image_picker  account_page_click  \\\n",
       "0                  0        0             0                   0   \n",
       "1                  0        0             0                   0   \n",
       "2                  0        0             0                   0   \n",
       "3                  0        0             0                   0   \n",
       "4                  0        1             0                   0   \n",
       "\n",
       "   promo_banner_click  detail_wishlist_add  list_size_dropdown  ...  \\\n",
       "0                   0                    0                   0  ...   \n",
       "1                   0                    0                   0  ...   \n",
       "2                   0                    0                   0  ...   \n",
       "3                   0                    0                   0  ...   \n",
       "4                   0                    0                   1  ...   \n",
       "\n",
       "   saw_sizecharts  saw_delivery  saw_account_upgrade  saw_homepage  \\\n",
       "0               0             0                    0             0   \n",
       "1               0             0                    0             0   \n",
       "2               0             0                    0             0   \n",
       "3               0             0                    0             0   \n",
       "4               0             0                    0             1   \n",
       "\n",
       "   device_mobile  device_computer  device_tablet  returning_user  loc_uk  \\\n",
       "0              1                0              0               0       1   \n",
       "1              1                0              0               0       1   \n",
       "2              1                0              0               1       1   \n",
       "3              1                0              0               1       1   \n",
       "4              0                0              1               0       1   \n",
       "\n",
       "   ordered  \n",
       "0        0  \n",
       "1        0  \n",
       "2        0  \n",
       "3        0  \n",
       "4        1  \n",
       "\n",
       "[5 rows x 25 columns]"
      ]
     },
     "execution_count": 2,
     "metadata": {},
     "output_type": "execute_result"
    }
   ],
   "source": [
    "#load data\n",
    "df=pd.read_csv(\"training_sample.csv\")\n",
    "df.head()"
   ]
  },
  {
   "cell_type": "code",
   "execution_count": 3,
   "metadata": {},
   "outputs": [],
   "source": [
    "#drop ID\n",
    "df.drop(['UserID'],axis=1, inplace=True)"
   ]
  },
  {
   "cell_type": "code",
   "execution_count": 4,
   "metadata": {
    "scrolled": true
   },
   "outputs": [
    {
     "data": {
      "text/html": [
       "<div>\n",
       "<style scoped>\n",
       "    .dataframe tbody tr th:only-of-type {\n",
       "        vertical-align: middle;\n",
       "    }\n",
       "\n",
       "    .dataframe tbody tr th {\n",
       "        vertical-align: top;\n",
       "    }\n",
       "\n",
       "    .dataframe thead th {\n",
       "        text-align: right;\n",
       "    }\n",
       "</style>\n",
       "<table border=\"1\" class=\"dataframe\">\n",
       "  <thead>\n",
       "    <tr style=\"text-align: right;\">\n",
       "      <th></th>\n",
       "      <th>basket_icon_click</th>\n",
       "      <th>basket_add_list</th>\n",
       "      <th>basket_add_detail</th>\n",
       "      <th>sort_by</th>\n",
       "      <th>image_picker</th>\n",
       "      <th>account_page_click</th>\n",
       "      <th>promo_banner_click</th>\n",
       "      <th>detail_wishlist_add</th>\n",
       "      <th>list_size_dropdown</th>\n",
       "      <th>closed_minibasket_click</th>\n",
       "      <th>...</th>\n",
       "      <th>saw_sizecharts</th>\n",
       "      <th>saw_delivery</th>\n",
       "      <th>saw_account_upgrade</th>\n",
       "      <th>saw_homepage</th>\n",
       "      <th>device_mobile</th>\n",
       "      <th>device_computer</th>\n",
       "      <th>device_tablet</th>\n",
       "      <th>returning_user</th>\n",
       "      <th>loc_uk</th>\n",
       "      <th>ordered</th>\n",
       "    </tr>\n",
       "  </thead>\n",
       "  <tbody>\n",
       "    <tr>\n",
       "      <th>count</th>\n",
       "      <td>455401.000000</td>\n",
       "      <td>455401.000000</td>\n",
       "      <td>455401.000000</td>\n",
       "      <td>455401.000000</td>\n",
       "      <td>455401.000000</td>\n",
       "      <td>455401.000000</td>\n",
       "      <td>455401.000000</td>\n",
       "      <td>455401.000000</td>\n",
       "      <td>455401.000000</td>\n",
       "      <td>455401.000000</td>\n",
       "      <td>...</td>\n",
       "      <td>455401.000000</td>\n",
       "      <td>455401.000000</td>\n",
       "      <td>455401.000000</td>\n",
       "      <td>455401.000000</td>\n",
       "      <td>455401.000000</td>\n",
       "      <td>455401.000000</td>\n",
       "      <td>455401.000000</td>\n",
       "      <td>455401.000000</td>\n",
       "      <td>455401.000000</td>\n",
       "      <td>455401.000000</td>\n",
       "    </tr>\n",
       "    <tr>\n",
       "      <th>mean</th>\n",
       "      <td>0.099150</td>\n",
       "      <td>0.074521</td>\n",
       "      <td>0.112916</td>\n",
       "      <td>0.036849</td>\n",
       "      <td>0.026735</td>\n",
       "      <td>0.003570</td>\n",
       "      <td>0.016208</td>\n",
       "      <td>0.003511</td>\n",
       "      <td>0.230362</td>\n",
       "      <td>0.017277</td>\n",
       "      <td>...</td>\n",
       "      <td>0.000389</td>\n",
       "      <td>0.005542</td>\n",
       "      <td>0.001096</td>\n",
       "      <td>0.290024</td>\n",
       "      <td>0.680706</td>\n",
       "      <td>0.194220</td>\n",
       "      <td>0.128364</td>\n",
       "      <td>0.534915</td>\n",
       "      <td>0.933224</td>\n",
       "      <td>0.041926</td>\n",
       "    </tr>\n",
       "    <tr>\n",
       "      <th>std</th>\n",
       "      <td>0.298864</td>\n",
       "      <td>0.262617</td>\n",
       "      <td>0.316490</td>\n",
       "      <td>0.188391</td>\n",
       "      <td>0.161307</td>\n",
       "      <td>0.059647</td>\n",
       "      <td>0.126274</td>\n",
       "      <td>0.059151</td>\n",
       "      <td>0.421065</td>\n",
       "      <td>0.130302</td>\n",
       "      <td>...</td>\n",
       "      <td>0.019711</td>\n",
       "      <td>0.074241</td>\n",
       "      <td>0.033084</td>\n",
       "      <td>0.453773</td>\n",
       "      <td>0.466204</td>\n",
       "      <td>0.395599</td>\n",
       "      <td>0.334495</td>\n",
       "      <td>0.498780</td>\n",
       "      <td>0.249634</td>\n",
       "      <td>0.200420</td>\n",
       "    </tr>\n",
       "    <tr>\n",
       "      <th>min</th>\n",
       "      <td>0.000000</td>\n",
       "      <td>0.000000</td>\n",
       "      <td>0.000000</td>\n",
       "      <td>0.000000</td>\n",
       "      <td>0.000000</td>\n",
       "      <td>0.000000</td>\n",
       "      <td>0.000000</td>\n",
       "      <td>0.000000</td>\n",
       "      <td>0.000000</td>\n",
       "      <td>0.000000</td>\n",
       "      <td>...</td>\n",
       "      <td>0.000000</td>\n",
       "      <td>0.000000</td>\n",
       "      <td>0.000000</td>\n",
       "      <td>0.000000</td>\n",
       "      <td>0.000000</td>\n",
       "      <td>0.000000</td>\n",
       "      <td>0.000000</td>\n",
       "      <td>0.000000</td>\n",
       "      <td>0.000000</td>\n",
       "      <td>0.000000</td>\n",
       "    </tr>\n",
       "    <tr>\n",
       "      <th>25%</th>\n",
       "      <td>0.000000</td>\n",
       "      <td>0.000000</td>\n",
       "      <td>0.000000</td>\n",
       "      <td>0.000000</td>\n",
       "      <td>0.000000</td>\n",
       "      <td>0.000000</td>\n",
       "      <td>0.000000</td>\n",
       "      <td>0.000000</td>\n",
       "      <td>0.000000</td>\n",
       "      <td>0.000000</td>\n",
       "      <td>...</td>\n",
       "      <td>0.000000</td>\n",
       "      <td>0.000000</td>\n",
       "      <td>0.000000</td>\n",
       "      <td>0.000000</td>\n",
       "      <td>0.000000</td>\n",
       "      <td>0.000000</td>\n",
       "      <td>0.000000</td>\n",
       "      <td>0.000000</td>\n",
       "      <td>1.000000</td>\n",
       "      <td>0.000000</td>\n",
       "    </tr>\n",
       "    <tr>\n",
       "      <th>50%</th>\n",
       "      <td>0.000000</td>\n",
       "      <td>0.000000</td>\n",
       "      <td>0.000000</td>\n",
       "      <td>0.000000</td>\n",
       "      <td>0.000000</td>\n",
       "      <td>0.000000</td>\n",
       "      <td>0.000000</td>\n",
       "      <td>0.000000</td>\n",
       "      <td>0.000000</td>\n",
       "      <td>0.000000</td>\n",
       "      <td>...</td>\n",
       "      <td>0.000000</td>\n",
       "      <td>0.000000</td>\n",
       "      <td>0.000000</td>\n",
       "      <td>0.000000</td>\n",
       "      <td>1.000000</td>\n",
       "      <td>0.000000</td>\n",
       "      <td>0.000000</td>\n",
       "      <td>1.000000</td>\n",
       "      <td>1.000000</td>\n",
       "      <td>0.000000</td>\n",
       "    </tr>\n",
       "    <tr>\n",
       "      <th>75%</th>\n",
       "      <td>0.000000</td>\n",
       "      <td>0.000000</td>\n",
       "      <td>0.000000</td>\n",
       "      <td>0.000000</td>\n",
       "      <td>0.000000</td>\n",
       "      <td>0.000000</td>\n",
       "      <td>0.000000</td>\n",
       "      <td>0.000000</td>\n",
       "      <td>0.000000</td>\n",
       "      <td>0.000000</td>\n",
       "      <td>...</td>\n",
       "      <td>0.000000</td>\n",
       "      <td>0.000000</td>\n",
       "      <td>0.000000</td>\n",
       "      <td>1.000000</td>\n",
       "      <td>1.000000</td>\n",
       "      <td>0.000000</td>\n",
       "      <td>0.000000</td>\n",
       "      <td>1.000000</td>\n",
       "      <td>1.000000</td>\n",
       "      <td>0.000000</td>\n",
       "    </tr>\n",
       "    <tr>\n",
       "      <th>max</th>\n",
       "      <td>1.000000</td>\n",
       "      <td>1.000000</td>\n",
       "      <td>1.000000</td>\n",
       "      <td>1.000000</td>\n",
       "      <td>1.000000</td>\n",
       "      <td>1.000000</td>\n",
       "      <td>1.000000</td>\n",
       "      <td>1.000000</td>\n",
       "      <td>1.000000</td>\n",
       "      <td>1.000000</td>\n",
       "      <td>...</td>\n",
       "      <td>1.000000</td>\n",
       "      <td>1.000000</td>\n",
       "      <td>1.000000</td>\n",
       "      <td>1.000000</td>\n",
       "      <td>1.000000</td>\n",
       "      <td>1.000000</td>\n",
       "      <td>1.000000</td>\n",
       "      <td>1.000000</td>\n",
       "      <td>1.000000</td>\n",
       "      <td>1.000000</td>\n",
       "    </tr>\n",
       "  </tbody>\n",
       "</table>\n",
       "<p>8 rows × 24 columns</p>\n",
       "</div>"
      ],
      "text/plain": [
       "       basket_icon_click  basket_add_list  basket_add_detail        sort_by  \\\n",
       "count      455401.000000    455401.000000      455401.000000  455401.000000   \n",
       "mean            0.099150         0.074521           0.112916       0.036849   \n",
       "std             0.298864         0.262617           0.316490       0.188391   \n",
       "min             0.000000         0.000000           0.000000       0.000000   \n",
       "25%             0.000000         0.000000           0.000000       0.000000   \n",
       "50%             0.000000         0.000000           0.000000       0.000000   \n",
       "75%             0.000000         0.000000           0.000000       0.000000   \n",
       "max             1.000000         1.000000           1.000000       1.000000   \n",
       "\n",
       "        image_picker  account_page_click  promo_banner_click  \\\n",
       "count  455401.000000       455401.000000       455401.000000   \n",
       "mean        0.026735            0.003570            0.016208   \n",
       "std         0.161307            0.059647            0.126274   \n",
       "min         0.000000            0.000000            0.000000   \n",
       "25%         0.000000            0.000000            0.000000   \n",
       "50%         0.000000            0.000000            0.000000   \n",
       "75%         0.000000            0.000000            0.000000   \n",
       "max         1.000000            1.000000            1.000000   \n",
       "\n",
       "       detail_wishlist_add  list_size_dropdown  closed_minibasket_click  ...  \\\n",
       "count        455401.000000       455401.000000            455401.000000  ...   \n",
       "mean              0.003511            0.230362                 0.017277  ...   \n",
       "std               0.059151            0.421065                 0.130302  ...   \n",
       "min               0.000000            0.000000                 0.000000  ...   \n",
       "25%               0.000000            0.000000                 0.000000  ...   \n",
       "50%               0.000000            0.000000                 0.000000  ...   \n",
       "75%               0.000000            0.000000                 0.000000  ...   \n",
       "max               1.000000            1.000000                 1.000000  ...   \n",
       "\n",
       "       saw_sizecharts   saw_delivery  saw_account_upgrade   saw_homepage  \\\n",
       "count   455401.000000  455401.000000        455401.000000  455401.000000   \n",
       "mean         0.000389       0.005542             0.001096       0.290024   \n",
       "std          0.019711       0.074241             0.033084       0.453773   \n",
       "min          0.000000       0.000000             0.000000       0.000000   \n",
       "25%          0.000000       0.000000             0.000000       0.000000   \n",
       "50%          0.000000       0.000000             0.000000       0.000000   \n",
       "75%          0.000000       0.000000             0.000000       1.000000   \n",
       "max          1.000000       1.000000             1.000000       1.000000   \n",
       "\n",
       "       device_mobile  device_computer  device_tablet  returning_user  \\\n",
       "count  455401.000000    455401.000000  455401.000000   455401.000000   \n",
       "mean        0.680706         0.194220       0.128364        0.534915   \n",
       "std         0.466204         0.395599       0.334495        0.498780   \n",
       "min         0.000000         0.000000       0.000000        0.000000   \n",
       "25%         0.000000         0.000000       0.000000        0.000000   \n",
       "50%         1.000000         0.000000       0.000000        1.000000   \n",
       "75%         1.000000         0.000000       0.000000        1.000000   \n",
       "max         1.000000         1.000000       1.000000        1.000000   \n",
       "\n",
       "              loc_uk        ordered  \n",
       "count  455401.000000  455401.000000  \n",
       "mean        0.933224       0.041926  \n",
       "std         0.249634       0.200420  \n",
       "min         0.000000       0.000000  \n",
       "25%         1.000000       0.000000  \n",
       "50%         1.000000       0.000000  \n",
       "75%         1.000000       0.000000  \n",
       "max         1.000000       1.000000  \n",
       "\n",
       "[8 rows x 24 columns]"
      ]
     },
     "execution_count": 4,
     "metadata": {},
     "output_type": "execute_result"
    }
   ],
   "source": [
    "#decriptive stats\n",
    "df.describe()"
   ]
  },
  {
   "cell_type": "code",
   "execution_count": 5,
   "metadata": {
    "scrolled": true
   },
   "outputs": [
    {
     "data": {
      "text/plain": [
       "basket_icon_click          0\n",
       "basket_add_list            0\n",
       "basket_add_detail          0\n",
       "sort_by                    0\n",
       "image_picker               0\n",
       "account_page_click         0\n",
       "promo_banner_click         0\n",
       "detail_wishlist_add        0\n",
       "list_size_dropdown         0\n",
       "closed_minibasket_click    0\n",
       "checked_delivery_detail    0\n",
       "checked_returns_detail     0\n",
       "sign_in                    0\n",
       "saw_checkout               0\n",
       "saw_sizecharts             0\n",
       "saw_delivery               0\n",
       "saw_account_upgrade        0\n",
       "saw_homepage               0\n",
       "device_mobile              0\n",
       "device_computer            0\n",
       "device_tablet              0\n",
       "returning_user             0\n",
       "loc_uk                     0\n",
       "ordered                    0\n",
       "dtype: int64"
      ]
     },
     "execution_count": 5,
     "metadata": {},
     "output_type": "execute_result"
    }
   ],
   "source": [
    "#check for null values\n",
    "df.isnull().sum()"
   ]
  },
  {
   "cell_type": "code",
   "execution_count": 6,
   "metadata": {
    "scrolled": true
   },
   "outputs": [
    {
     "data": {
      "text/plain": [
       "<matplotlib.axes._subplots.AxesSubplot at 0x1a143e1290>"
      ]
     },
     "execution_count": 6,
     "metadata": {},
     "output_type": "execute_result"
    },
    {
     "data": {
      "image/png": "[encoded data removed]",
      "text/plain": [
       "<Figure size 864x360 with 1 Axes>"
      ]
     },
     "metadata": {},
     "output_type": "display_data"
    }
   ],
   "source": [
    "#correlation bar chart\n",
    "df.corr()['ordered'].plot(kind='bar',figsize=(12,5),color=\"palevioletred\")"
   ]
  },
  {
   "cell_type": "markdown",
   "metadata": {},
   "source": [
    "## Build Model"
   ]
  },
  {
   "cell_type": "code",
   "execution_count": 10,
   "metadata": {},
   "outputs": [],
   "source": [
    "#import libraries\n",
    "from sklearn.model_selection import cross_val_score\n",
    "from sklearn.ensemble import RandomForestClassifier\n",
    "from sklearn.linear_model import SGDClassifier\n",
    "from sklearn.linear_model import LogisticRegression"
   ]
  },
  {
   "cell_type": "code",
   "execution_count": 11,
   "metadata": {},
   "outputs": [],
   "source": [
    "#train test split\n",
    "from sklearn.model_selection import train_test_split\n",
    "\n",
    "features = df.drop('ordered',axis=1)\n",
    "target = df.ordered\n",
    "\n",
    "X_train, X_test, y_train, y_test = train_test_split(features,target, test_size = 0.2)"
   ]
  },
  {
   "cell_type": "code",
   "execution_count": 12,
   "metadata": {},
   "outputs": [],
   "source": [
    "#set kfold=5\n",
    "from sklearn.model_selection import StratifiedKFold\n",
    "skfold = StratifiedKFold(n_splits=5)"
   ]
  },
  {
   "cell_type": "code",
   "execution_count": 13,
   "metadata": {},
   "outputs": [
    {
     "data": {
      "text/plain": [
       "0.9974995994884901"
      ]
     },
     "execution_count": 13,
     "metadata": {},
     "output_type": "execute_result"
    }
   ],
   "source": [
    "#CV logistic regression\n",
    "np.mean(cross_val_score(LogisticRegression(tol=0.1),X_train,y_train,scoring='roc_auc',cv=skfold))"
   ]
  },
  {
   "cell_type": "code",
   "execution_count": 14,
   "metadata": {},
   "outputs": [
    {
     "data": {
      "text/plain": [
       "0.9959467129061078"
      ]
     },
     "execution_count": 14,
     "metadata": {},
     "output_type": "execute_result"
    }
   ],
   "source": [
    "#CV random forest\n",
    "np.mean(cross_val_score(RandomForestClassifier(),X_train,y_train,scoring='roc_auc',cv=skfold))"
   ]
  },
  {
   "cell_type": "code",
   "execution_count": 15,
   "metadata": {},
   "outputs": [
    {
     "data": {
      "text/plain": [
       "0.9972968365506828"
      ]
     },
     "execution_count": 15,
     "metadata": {},
     "output_type": "execute_result"
    }
   ],
   "source": [
    "#CV SGD\n",
    "np.mean(cross_val_score(SGDClassifier(),X_train,y_train,scoring='roc_auc',cv=skfold))"
   ]
  },
  {
   "cell_type": "code",
   "execution_count": 16,
   "metadata": {},
   "outputs": [
    {
     "data": {
      "text/plain": [
       "0.9868377872592088"
      ]
     },
     "execution_count": 16,
     "metadata": {},
     "output_type": "execute_result"
    }
   ],
   "source": [
    "#CV decision tree\n",
    "from sklearn.tree import DecisionTreeClassifier\n",
    "np.mean(cross_val_score(DecisionTreeClassifier(),X_train,y_train,scoring='roc_auc',cv=skfold))"
   ]
  },
  {
   "cell_type": "code",
   "execution_count": 19,
   "metadata": {},
   "outputs": [
    {
     "name": "stdout",
     "output_type": "stream",
     "text": [
      "F1 Score (Train): 0.923815934402154\n",
      "F1 Score (Test): 0.9222360248447206\n",
      "AUC (Train): 0.9975337452606798\n",
      "AUC (Test): 0.9973576260584869\n"
     ]
    }
   ],
   "source": [
    "#logistic regression had the highest roc score\n",
    "clf = LogisticRegression()\n",
    "\n",
    "clf.fit(X_train,y_train)\n",
    "\n",
    "pred_train = clf.predict(X_train)\n",
    "pred_test = clf.predict(X_test)\n",
    "\n",
    "from sklearn import metrics\n",
    "from sklearn.metrics import f1_score\n",
    "f1_train = f1_score(pred_train,y_train)\n",
    "f1_test = f1_score(pred_test,y_test)\n",
    "\n",
    "fpr, tpr, _ = metrics.roc_curve(np.array(y_train), clf.predict_proba(X_train)[:,1])\n",
    "auc_train = metrics.auc(fpr,tpr)\n",
    "\n",
    "fpr, tpr, _ = metrics.roc_curve(np.array(y_test), clf.predict_proba(X_test)[:,1])\n",
    "auc_test = metrics.auc(fpr,tpr)\n",
    "\n",
    "print(\"F1 Score (Train):\",f1_train)\n",
    "print(\"F1 Score (Test):\",f1_test)\n",
    "print(\"AUC (Train):\",auc_train)\n",
    "print(\"AUC (Test):\",auc_test)"
   ]
  },
  {
   "cell_type": "code",
   "execution_count": 20,
   "metadata": {},
   "outputs": [
    {
     "data": {
      "text/html": [
       "<div>\n",
       "<style scoped>\n",
       "    .dataframe tbody tr th:only-of-type {\n",
       "        vertical-align: middle;\n",
       "    }\n",
       "\n",
       "    .dataframe tbody tr th {\n",
       "        vertical-align: top;\n",
       "    }\n",
       "\n",
       "    .dataframe thead th {\n",
       "        text-align: right;\n",
       "    }\n",
       "</style>\n",
       "<table border=\"1\" class=\"dataframe\">\n",
       "  <thead>\n",
       "    <tr style=\"text-align: right;\">\n",
       "      <th>PRED</th>\n",
       "      <th>0</th>\n",
       "      <th>1</th>\n",
       "    </tr>\n",
       "    <tr>\n",
       "      <th>ACTUAL</th>\n",
       "      <th></th>\n",
       "      <th></th>\n",
       "    </tr>\n",
       "  </thead>\n",
       "  <tbody>\n",
       "    <tr>\n",
       "      <th>0</th>\n",
       "      <td>266068</td>\n",
       "      <td>13324</td>\n",
       "    </tr>\n",
       "    <tr>\n",
       "      <th>1</th>\n",
       "      <td>11625</td>\n",
       "      <td>551</td>\n",
       "    </tr>\n",
       "  </tbody>\n",
       "</table>\n",
       "</div>"
      ],
      "text/plain": [
       "PRED         0      1\n",
       "ACTUAL               \n",
       "0       266068  13324\n",
       "1        11625    551"
      ]
     },
     "execution_count": 20,
     "metadata": {},
     "output_type": "execute_result"
    }
   ],
   "source": [
    "#evaluate train predictions\n",
    "pd.crosstab(y_train,pd.Series(pred_train),rownames=['ACTUAL'],colnames=['PRED'])"
   ]
  },
  {
   "cell_type": "code",
   "execution_count": 21,
   "metadata": {
    "scrolled": true
   },
   "outputs": [
    {
     "data": {
      "text/html": [
       "<div>\n",
       "<style scoped>\n",
       "    .dataframe tbody tr th:only-of-type {\n",
       "        vertical-align: middle;\n",
       "    }\n",
       "\n",
       "    .dataframe tbody tr th {\n",
       "        vertical-align: top;\n",
       "    }\n",
       "\n",
       "    .dataframe thead th {\n",
       "        text-align: right;\n",
       "    }\n",
       "</style>\n",
       "<table border=\"1\" class=\"dataframe\">\n",
       "  <thead>\n",
       "    <tr style=\"text-align: right;\">\n",
       "      <th>PRED</th>\n",
       "      <th>0</th>\n",
       "      <th>1</th>\n",
       "    </tr>\n",
       "    <tr>\n",
       "      <th>ACTUAL</th>\n",
       "      <th></th>\n",
       "      <th></th>\n",
       "    </tr>\n",
       "  </thead>\n",
       "  <tbody>\n",
       "    <tr>\n",
       "      <th>0</th>\n",
       "      <td>16650</td>\n",
       "      <td>791</td>\n",
       "    </tr>\n",
       "    <tr>\n",
       "      <th>1</th>\n",
       "      <td>708</td>\n",
       "      <td>48</td>\n",
       "    </tr>\n",
       "  </tbody>\n",
       "</table>\n",
       "</div>"
      ],
      "text/plain": [
       "PRED        0    1\n",
       "ACTUAL            \n",
       "0       16650  791\n",
       "1         708   48"
      ]
     },
     "execution_count": 21,
     "metadata": {},
     "output_type": "execute_result"
    }
   ],
   "source": [
    "#evaluate test predictions\n",
    "pd.crosstab(y_test,pd.Series(pred_test),rownames=['ACTUAL'],colnames=['PRED'])"
   ]
  },
  {
   "cell_type": "code",
   "execution_count": 22,
   "metadata": {},
   "outputs": [
    {
     "name": "stdout",
     "output_type": "stream",
     "text": [
      "AUC = 0.9975337452606798\n"
     ]
    },
    {
     "data": {
      "image/png": "[encoded data removed]",
      "text/plain": [
       "<Figure size 432x288 with 1 Axes>"
      ]
     },
     "metadata": {},
     "output_type": "display_data"
    }
   ],
   "source": [
    "#plot ROC train\n",
    "preds = clf.predict_proba(X_train)[:,1]\n",
    "\n",
    "fpr, tpr, _ = metrics.roc_curve(np.array(y_train), preds)\n",
    "auc = metrics.auc(fpr,tpr)\n",
    "\n",
    "plt.title(\"ROC Curve - Train data\")\n",
    "sns.lineplot(fpr,tpr,color='#0077bc')\n",
    "sns.lineplot([0,1],[0,1], color= '#d15555')\n",
    "print('AUC =',auc)"
   ]
  },
  {
   "cell_type": "code",
   "execution_count": 23,
   "metadata": {},
   "outputs": [
    {
     "name": "stdout",
     "output_type": "stream",
     "text": [
      "AUC = 0.9973576260584869\n"
     ]
    },
    {
     "data": {
      "image/png": "[encoded data removed]",
      "text/plain": [
       "<Figure size 432x288 with 1 Axes>"
      ]
     },
     "metadata": {},
     "output_type": "display_data"
    }
   ],
   "source": [
    "#plot ROC test\n",
    "preds = clf.predict_proba(X_test)[:,1]\n",
    "\n",
    "fpr, tpr, _ = metrics.roc_curve(np.array(y_test), preds)\n",
    "auc = metrics.auc(fpr,tpr)\n",
    "\n",
    "plt.title(\"ROC Curve - Test data\")\n",
    "sns.lineplot(fpr,tpr,color='#0077bc')\n",
    "sns.lineplot([0,1],[0,1], color= '#d15555')\n",
    "print('AUC = '+ str(auc))"
   ]
  },
  {
   "cell_type": "code",
   "execution_count": 24,
   "metadata": {
    "scrolled": true
   },
   "outputs": [],
   "source": [
    "#purchase probability\n",
    "prediction=pred_test\n",
    "probs=clf.predict_proba(X_test)\n",
    "#keep class 0 only\n",
    "probs = probs[:, 0]"
   ]
  },
  {
   "cell_type": "code",
   "execution_count": 29,
   "metadata": {},
   "outputs": [
    {
     "name": "stdout",
     "output_type": "stream",
     "text": [
      "        True  Prediction  No Purchase Probability\n",
      "93625      0           0                 0.999997\n",
      "372929     0           0                 0.999998\n",
      "265285     0           0                 0.999998\n",
      "134406     0           0                 0.989118\n",
      "420611     0           0                 0.992144\n",
      "373300     0           0                 0.999998\n",
      "381296     0           0                 0.999997\n",
      "385446     0           0                 0.999500\n",
      "285236     0           0                 0.999994\n",
      "401268     0           0                 0.999999\n",
      "207579     0           0                 0.999997\n",
      "181748     0           0                 0.999996\n",
      "427603     0           0                 0.999997\n",
      "263374     0           0                 0.999996\n",
      "104191     1           1                 0.145100\n",
      "107090     0           0                 0.999996\n",
      "38082      0           0                 0.999993\n",
      "282198     0           0                 0.999998\n",
      "356688     0           0                 0.999998\n",
      "386727     0           0                 0.999996\n"
     ]
    }
   ],
   "source": [
    "compare=pd.DataFrame({\"True\":(y_test),\"Prediction\":(prediction),\"No Purchase Probability\":(probs)})\n",
    "print(compare.sample(20))"
   ]
  },
  {
   "cell_type": "code",
   "execution_count": 81,
   "metadata": {},
   "outputs": [],
   "source": [
    "#load test dataset\n",
    "test_df=pd.read_csv('testing_sample.csv')"
   ]
  },
  {
   "cell_type": "code",
   "execution_count": 82,
   "metadata": {},
   "outputs": [
    {
     "data": {
      "text/plain": [
       "(151655, 25)"
      ]
     },
     "execution_count": 82,
     "metadata": {},
     "output_type": "execute_result"
    }
   ],
   "source": [
    "test_df.shape"
   ]
  },
  {
   "cell_type": "code",
   "execution_count": 247,
   "metadata": {},
   "outputs": [],
   "source": [
    "#1 random sample treatment and control (50/50)\n",
    "#2 conversion rate in the control group (did order/total in the control)\n",
    "#3 apply model to tx group and predict \n",
    "    #include true value (0 or 1)\n",
    "#4 create decile column\n",
    "#5 how many converted in each decile\n",
    "    #count how many 1's there are for each decile divide by total\n",
    "#6 lift over control= (tx churn rate-control churn rate)/control churn rate\n",
    "    #should get smaller down the list"
   ]
  },
  {
   "cell_type": "code",
   "execution_count": 83,
   "metadata": {},
   "outputs": [],
   "source": [
    "#randomly split dataset into treatment and control (50/50)\n",
    "control = test_df.sample(frac=0.5)\n",
    "treatment = test_df.sample(frac=0.5)"
   ]
  },
  {
   "cell_type": "code",
   "execution_count": 84,
   "metadata": {},
   "outputs": [
    {
     "data": {
      "text/plain": [
       "75827.5"
      ]
     },
     "execution_count": 84,
     "metadata": {},
     "output_type": "execute_result"
    }
   ],
   "source": [
    "test_df.shape[0]/2"
   ]
  },
  {
   "cell_type": "code",
   "execution_count": 85,
   "metadata": {},
   "outputs": [
    {
     "data": {
      "text/plain": [
       "(75828, 25)"
      ]
     },
     "execution_count": 85,
     "metadata": {},
     "output_type": "execute_result"
    }
   ],
   "source": [
    "#check control shape\n",
    "control.shape"
   ]
  },
  {
   "cell_type": "code",
   "execution_count": 86,
   "metadata": {},
   "outputs": [
    {
     "data": {
      "text/plain": [
       "(75828, 25)"
      ]
     },
     "execution_count": 86,
     "metadata": {},
     "output_type": "execute_result"
    }
   ],
   "source": [
    "#check treatment shape\n",
    "treatment.shape"
   ]
  },
  {
   "cell_type": "code",
   "execution_count": 87,
   "metadata": {},
   "outputs": [
    {
     "data": {
      "text/plain": [
       "0    74702\n",
       "1     1126\n",
       "Name: ordered, dtype: int64"
      ]
     },
     "execution_count": 87,
     "metadata": {},
     "output_type": "execute_result"
    }
   ],
   "source": [
    "control.ordered.value_counts()"
   ]
  },
  {
   "cell_type": "code",
   "execution_count": 88,
   "metadata": {},
   "outputs": [
    {
     "data": {
      "text/plain": [
       "0    74736\n",
       "1     1092\n",
       "Name: ordered, dtype: int64"
      ]
     },
     "execution_count": 88,
     "metadata": {},
     "output_type": "execute_result"
    }
   ],
   "source": [
    "treatment.ordered.value_counts()"
   ]
  },
  {
   "cell_type": "code",
   "execution_count": 89,
   "metadata": {},
   "outputs": [
    {
     "data": {
      "text/plain": [
       "0    149454\n",
       "1      2201\n",
       "Name: ordered, dtype: int64"
      ]
     },
     "execution_count": 89,
     "metadata": {},
     "output_type": "execute_result"
    }
   ],
   "source": [
    "test_df.ordered.value_counts()"
   ]
  },
  {
   "cell_type": "code",
   "execution_count": 272,
   "metadata": {},
   "outputs": [],
   "source": [
    "#conversion rate in the control group (ordered/total in the control)\n",
    "control_conversion_rate=control.ordered.value_counts()[1]/control.shape[0]"
   ]
  },
  {
   "cell_type": "code",
   "execution_count": 273,
   "metadata": {},
   "outputs": [
    {
     "name": "stdout",
     "output_type": "stream",
     "text": [
      "Conversion Rate: 0.014849396001477028\n"
     ]
    }
   ],
   "source": [
    "print(\"Conversion Rate:\",control_conversion_rate)"
   ]
  },
  {
   "cell_type": "code",
   "execution_count": 93,
   "metadata": {},
   "outputs": [],
   "source": [
    "treatment_drop_ordered=treatment.drop('ordered',axis=1)"
   ]
  },
  {
   "cell_type": "code",
   "execution_count": 97,
   "metadata": {},
   "outputs": [],
   "source": [
    "treatment_drop_ordered.drop('UserID',axis=1,inplace=True)"
   ]
  },
  {
   "cell_type": "code",
   "execution_count": 102,
   "metadata": {},
   "outputs": [],
   "source": [
    "#apply model to tx group and predict \n",
    "treatment_prob=clf.predict_proba(treatment_drop_ordered)[:,0]"
   ]
  },
  {
   "cell_type": "code",
   "execution_count": 279,
   "metadata": {},
   "outputs": [],
   "source": [
    "#create new dataframe showing actual values (0 or 1) and treatment propensity probability\n",
    "propensity=pd.DataFrame({\"Actual\":treatment.ordered, \"Tx No Purchase Probability\":treatment_prob}).sort_values(by=\"Tx No Purchase Probability\",ascending=False)"
   ]
  },
  {
   "cell_type": "code",
   "execution_count": 280,
   "metadata": {},
   "outputs": [
    {
     "data": {
      "text/html": [
       "<div>\n",
       "<style scoped>\n",
       "    .dataframe tbody tr th:only-of-type {\n",
       "        vertical-align: middle;\n",
       "    }\n",
       "\n",
       "    .dataframe tbody tr th {\n",
       "        vertical-align: top;\n",
       "    }\n",
       "\n",
       "    .dataframe thead th {\n",
       "        text-align: right;\n",
       "    }\n",
       "</style>\n",
       "<table border=\"1\" class=\"dataframe\">\n",
       "  <thead>\n",
       "    <tr style=\"text-align: right;\">\n",
       "      <th></th>\n",
       "      <th>Actual</th>\n",
       "      <th>Tx No Purchase Probability</th>\n",
       "    </tr>\n",
       "  </thead>\n",
       "  <tbody>\n",
       "    <tr>\n",
       "      <th>72097</th>\n",
       "      <td>0</td>\n",
       "      <td>1.000000</td>\n",
       "    </tr>\n",
       "    <tr>\n",
       "      <th>115638</th>\n",
       "      <td>0</td>\n",
       "      <td>1.000000</td>\n",
       "    </tr>\n",
       "    <tr>\n",
       "      <th>30365</th>\n",
       "      <td>0</td>\n",
       "      <td>1.000000</td>\n",
       "    </tr>\n",
       "    <tr>\n",
       "      <th>149428</th>\n",
       "      <td>0</td>\n",
       "      <td>1.000000</td>\n",
       "    </tr>\n",
       "    <tr>\n",
       "      <th>66399</th>\n",
       "      <td>0</td>\n",
       "      <td>1.000000</td>\n",
       "    </tr>\n",
       "    <tr>\n",
       "      <th>...</th>\n",
       "      <td>...</td>\n",
       "      <td>...</td>\n",
       "    </tr>\n",
       "    <tr>\n",
       "      <th>128454</th>\n",
       "      <td>0</td>\n",
       "      <td>0.045880</td>\n",
       "    </tr>\n",
       "    <tr>\n",
       "      <th>83512</th>\n",
       "      <td>0</td>\n",
       "      <td>0.045864</td>\n",
       "    </tr>\n",
       "    <tr>\n",
       "      <th>60361</th>\n",
       "      <td>0</td>\n",
       "      <td>0.039933</td>\n",
       "    </tr>\n",
       "    <tr>\n",
       "      <th>52271</th>\n",
       "      <td>0</td>\n",
       "      <td>0.039253</td>\n",
       "    </tr>\n",
       "    <tr>\n",
       "      <th>30932</th>\n",
       "      <td>0</td>\n",
       "      <td>0.033571</td>\n",
       "    </tr>\n",
       "  </tbody>\n",
       "</table>\n",
       "<p>75828 rows × 2 columns</p>\n",
       "</div>"
      ],
      "text/plain": [
       "        Actual  Tx No Purchase Probability\n",
       "72097        0                    1.000000\n",
       "115638       0                    1.000000\n",
       "30365        0                    1.000000\n",
       "149428       0                    1.000000\n",
       "66399        0                    1.000000\n",
       "...        ...                         ...\n",
       "128454       0                    0.045880\n",
       "83512        0                    0.045864\n",
       "60361        0                    0.039933\n",
       "52271        0                    0.039253\n",
       "30932        0                    0.033571\n",
       "\n",
       "[75828 rows x 2 columns]"
      ]
     },
     "execution_count": 280,
     "metadata": {},
     "output_type": "execute_result"
    }
   ],
   "source": [
    "propensity"
   ]
  },
  {
   "cell_type": "code",
   "execution_count": 281,
   "metadata": {
    "scrolled": false
   },
   "outputs": [
    {
     "data": {
      "text/html": [
       "<div>\n",
       "<style scoped>\n",
       "    .dataframe tbody tr th:only-of-type {\n",
       "        vertical-align: middle;\n",
       "    }\n",
       "\n",
       "    .dataframe tbody tr th {\n",
       "        vertical-align: top;\n",
       "    }\n",
       "\n",
       "    .dataframe thead th {\n",
       "        text-align: right;\n",
       "    }\n",
       "</style>\n",
       "<table border=\"1\" class=\"dataframe\">\n",
       "  <thead>\n",
       "    <tr style=\"text-align: right;\">\n",
       "      <th></th>\n",
       "      <th>Actual</th>\n",
       "      <th>Tx No Purchase Probability</th>\n",
       "      <th>Decile</th>\n",
       "    </tr>\n",
       "  </thead>\n",
       "  <tbody>\n",
       "    <tr>\n",
       "      <th>30932</th>\n",
       "      <td>0</td>\n",
       "      <td>0.033571</td>\n",
       "      <td>1</td>\n",
       "    </tr>\n",
       "    <tr>\n",
       "      <th>126164</th>\n",
       "      <td>0</td>\n",
       "      <td>0.999986</td>\n",
       "      <td>1</td>\n",
       "    </tr>\n",
       "    <tr>\n",
       "      <th>35930</th>\n",
       "      <td>0</td>\n",
       "      <td>0.999986</td>\n",
       "      <td>1</td>\n",
       "    </tr>\n",
       "    <tr>\n",
       "      <th>29515</th>\n",
       "      <td>0</td>\n",
       "      <td>0.999986</td>\n",
       "      <td>1</td>\n",
       "    </tr>\n",
       "    <tr>\n",
       "      <th>46069</th>\n",
       "      <td>0</td>\n",
       "      <td>0.999986</td>\n",
       "      <td>1</td>\n",
       "    </tr>\n",
       "    <tr>\n",
       "      <th>...</th>\n",
       "      <td>...</td>\n",
       "      <td>...</td>\n",
       "      <td>...</td>\n",
       "    </tr>\n",
       "    <tr>\n",
       "      <th>126342</th>\n",
       "      <td>0</td>\n",
       "      <td>0.999998</td>\n",
       "      <td>10</td>\n",
       "    </tr>\n",
       "    <tr>\n",
       "      <th>77198</th>\n",
       "      <td>0</td>\n",
       "      <td>0.999998</td>\n",
       "      <td>10</td>\n",
       "    </tr>\n",
       "    <tr>\n",
       "      <th>35028</th>\n",
       "      <td>0</td>\n",
       "      <td>0.999998</td>\n",
       "      <td>10</td>\n",
       "    </tr>\n",
       "    <tr>\n",
       "      <th>95174</th>\n",
       "      <td>0</td>\n",
       "      <td>0.999998</td>\n",
       "      <td>10</td>\n",
       "    </tr>\n",
       "    <tr>\n",
       "      <th>72097</th>\n",
       "      <td>0</td>\n",
       "      <td>1.000000</td>\n",
       "      <td>10</td>\n",
       "    </tr>\n",
       "  </tbody>\n",
       "</table>\n",
       "<p>75828 rows × 3 columns</p>\n",
       "</div>"
      ],
      "text/plain": [
       "        Actual  Tx No Purchase Probability  Decile\n",
       "30932        0                    0.033571       1\n",
       "126164       0                    0.999986       1\n",
       "35930        0                    0.999986       1\n",
       "29515        0                    0.999986       1\n",
       "46069        0                    0.999986       1\n",
       "...        ...                         ...     ...\n",
       "126342       0                    0.999998      10\n",
       "77198        0                    0.999998      10\n",
       "35028        0                    0.999998      10\n",
       "95174        0                    0.999998      10\n",
       "72097        0                    1.000000      10\n",
       "\n",
       "[75828 rows x 3 columns]"
      ]
     },
     "execution_count": 281,
     "metadata": {},
     "output_type": "execute_result"
    }
   ],
   "source": [
    "#create decile column\n",
    "def pct_rank_qcut(series, n):\n",
    "    edges = pd.Series([float(i) / n for i in range(n + 1)])\n",
    "    f = lambda x: (edges >= x).argmax()\n",
    "    return series.rank(pct=1).apply(f)"
   ]
  },
  {
   "cell_type": "code",
   "execution_count": 282,
   "metadata": {},
   "outputs": [
    {
     "data": {
      "text/html": [
       "<div>\n",
       "<style scoped>\n",
       "    .dataframe tbody tr th:only-of-type {\n",
       "        vertical-align: middle;\n",
       "    }\n",
       "\n",
       "    .dataframe tbody tr th {\n",
       "        vertical-align: top;\n",
       "    }\n",
       "\n",
       "    .dataframe thead th {\n",
       "        text-align: right;\n",
       "    }\n",
       "</style>\n",
       "<table border=\"1\" class=\"dataframe\">\n",
       "  <thead>\n",
       "    <tr style=\"text-align: right;\">\n",
       "      <th></th>\n",
       "      <th>Actual</th>\n",
       "      <th>Tx No Purchase Probability</th>\n",
       "      <th>Decile</th>\n",
       "    </tr>\n",
       "  </thead>\n",
       "  <tbody>\n",
       "    <tr>\n",
       "      <th>30932</th>\n",
       "      <td>0</td>\n",
       "      <td>0.033571</td>\n",
       "      <td>1</td>\n",
       "    </tr>\n",
       "    <tr>\n",
       "      <th>126164</th>\n",
       "      <td>0</td>\n",
       "      <td>0.999986</td>\n",
       "      <td>1</td>\n",
       "    </tr>\n",
       "    <tr>\n",
       "      <th>35930</th>\n",
       "      <td>0</td>\n",
       "      <td>0.999986</td>\n",
       "      <td>1</td>\n",
       "    </tr>\n",
       "    <tr>\n",
       "      <th>29515</th>\n",
       "      <td>0</td>\n",
       "      <td>0.999986</td>\n",
       "      <td>1</td>\n",
       "    </tr>\n",
       "    <tr>\n",
       "      <th>46069</th>\n",
       "      <td>0</td>\n",
       "      <td>0.999986</td>\n",
       "      <td>1</td>\n",
       "    </tr>\n",
       "    <tr>\n",
       "      <th>...</th>\n",
       "      <td>...</td>\n",
       "      <td>...</td>\n",
       "      <td>...</td>\n",
       "    </tr>\n",
       "    <tr>\n",
       "      <th>126342</th>\n",
       "      <td>0</td>\n",
       "      <td>0.999998</td>\n",
       "      <td>10</td>\n",
       "    </tr>\n",
       "    <tr>\n",
       "      <th>77198</th>\n",
       "      <td>0</td>\n",
       "      <td>0.999998</td>\n",
       "      <td>10</td>\n",
       "    </tr>\n",
       "    <tr>\n",
       "      <th>35028</th>\n",
       "      <td>0</td>\n",
       "      <td>0.999998</td>\n",
       "      <td>10</td>\n",
       "    </tr>\n",
       "    <tr>\n",
       "      <th>95174</th>\n",
       "      <td>0</td>\n",
       "      <td>0.999998</td>\n",
       "      <td>10</td>\n",
       "    </tr>\n",
       "    <tr>\n",
       "      <th>72097</th>\n",
       "      <td>0</td>\n",
       "      <td>1.000000</td>\n",
       "      <td>10</td>\n",
       "    </tr>\n",
       "  </tbody>\n",
       "</table>\n",
       "<p>75828 rows × 3 columns</p>\n",
       "</div>"
      ],
      "text/plain": [
       "        Actual  Tx No Purchase Probability  Decile\n",
       "30932        0                    0.033571       1\n",
       "126164       0                    0.999986       1\n",
       "35930        0                    0.999986       1\n",
       "29515        0                    0.999986       1\n",
       "46069        0                    0.999986       1\n",
       "...        ...                         ...     ...\n",
       "126342       0                    0.999998      10\n",
       "77198        0                    0.999998      10\n",
       "35028        0                    0.999998      10\n",
       "95174        0                    0.999998      10\n",
       "72097        0                    1.000000      10\n",
       "\n",
       "[75828 rows x 3 columns]"
      ]
     },
     "execution_count": 282,
     "metadata": {},
     "output_type": "execute_result"
    }
   ],
   "source": [
    "propensity['Decile'] = pct_rank_qcut(propensity['Tx No Purchase Probability'], 10)\n",
    "propensity.sort_values(by=\"Decile\")"
   ]
  },
  {
   "cell_type": "code",
   "execution_count": 285,
   "metadata": {},
   "outputs": [
    {
     "data": {
      "text/html": [
       "<div>\n",
       "<style scoped>\n",
       "    .dataframe tbody tr th:only-of-type {\n",
       "        vertical-align: middle;\n",
       "    }\n",
       "\n",
       "    .dataframe tbody tr th {\n",
       "        vertical-align: top;\n",
       "    }\n",
       "\n",
       "    .dataframe thead th {\n",
       "        text-align: right;\n",
       "    }\n",
       "</style>\n",
       "<table border=\"1\" class=\"dataframe\">\n",
       "  <thead>\n",
       "    <tr style=\"text-align: right;\">\n",
       "      <th></th>\n",
       "      <th>Actual</th>\n",
       "      <th>Tx No Purchase Probability</th>\n",
       "      <th>Decile</th>\n",
       "    </tr>\n",
       "  </thead>\n",
       "  <tbody>\n",
       "    <tr>\n",
       "      <th>72097</th>\n",
       "      <td>0</td>\n",
       "      <td>1.000000</td>\n",
       "      <td>1</td>\n",
       "    </tr>\n",
       "    <tr>\n",
       "      <th>115638</th>\n",
       "      <td>0</td>\n",
       "      <td>1.000000</td>\n",
       "      <td>1</td>\n",
       "    </tr>\n",
       "    <tr>\n",
       "      <th>30365</th>\n",
       "      <td>0</td>\n",
       "      <td>1.000000</td>\n",
       "      <td>1</td>\n",
       "    </tr>\n",
       "    <tr>\n",
       "      <th>149428</th>\n",
       "      <td>0</td>\n",
       "      <td>1.000000</td>\n",
       "      <td>1</td>\n",
       "    </tr>\n",
       "    <tr>\n",
       "      <th>66399</th>\n",
       "      <td>0</td>\n",
       "      <td>1.000000</td>\n",
       "      <td>1</td>\n",
       "    </tr>\n",
       "    <tr>\n",
       "      <th>...</th>\n",
       "      <td>...</td>\n",
       "      <td>...</td>\n",
       "      <td>...</td>\n",
       "    </tr>\n",
       "    <tr>\n",
       "      <th>128454</th>\n",
       "      <td>0</td>\n",
       "      <td>0.045880</td>\n",
       "      <td>10</td>\n",
       "    </tr>\n",
       "    <tr>\n",
       "      <th>83512</th>\n",
       "      <td>0</td>\n",
       "      <td>0.045864</td>\n",
       "      <td>10</td>\n",
       "    </tr>\n",
       "    <tr>\n",
       "      <th>60361</th>\n",
       "      <td>0</td>\n",
       "      <td>0.039933</td>\n",
       "      <td>10</td>\n",
       "    </tr>\n",
       "    <tr>\n",
       "      <th>52271</th>\n",
       "      <td>0</td>\n",
       "      <td>0.039253</td>\n",
       "      <td>10</td>\n",
       "    </tr>\n",
       "    <tr>\n",
       "      <th>30932</th>\n",
       "      <td>0</td>\n",
       "      <td>0.033571</td>\n",
       "      <td>10</td>\n",
       "    </tr>\n",
       "  </tbody>\n",
       "</table>\n",
       "<p>75828 rows × 3 columns</p>\n",
       "</div>"
      ],
      "text/plain": [
       "        Actual  Tx No Purchase Probability  Decile\n",
       "72097        0                    1.000000       1\n",
       "115638       0                    1.000000       1\n",
       "30365        0                    1.000000       1\n",
       "149428       0                    1.000000       1\n",
       "66399        0                    1.000000       1\n",
       "...        ...                         ...     ...\n",
       "128454       0                    0.045880      10\n",
       "83512        0                    0.045864      10\n",
       "60361        0                    0.039933      10\n",
       "52271        0                    0.039253      10\n",
       "30932        0                    0.033571      10\n",
       "\n",
       "[75828 rows x 3 columns]"
      ]
     },
     "execution_count": 285,
     "metadata": {},
     "output_type": "execute_result"
    }
   ],
   "source": [
    "#reverse decile order\n",
    "propensity[\"Decile\"] = propensity[\"Decile\"].values[::-1]\n",
    "propensity"
   ]
  },
  {
   "cell_type": "code",
   "execution_count": 286,
   "metadata": {
    "scrolled": true
   },
   "outputs": [
    {
     "data": {
      "text/plain": [
       "0    74736\n",
       "1     1092\n",
       "Name: ordered, dtype: int64"
      ]
     },
     "execution_count": 286,
     "metadata": {},
     "output_type": "execute_result"
    }
   ],
   "source": [
    "treatment.ordered.value_counts()"
   ]
  },
  {
   "cell_type": "code",
   "execution_count": 287,
   "metadata": {},
   "outputs": [
    {
     "data": {
      "text/plain": [
       "0    74736\n",
       "1     1092\n",
       "Name: Actual, dtype: int64"
      ]
     },
     "execution_count": 287,
     "metadata": {},
     "output_type": "execute_result"
    }
   ],
   "source": [
    "propensity.Actual.value_counts()"
   ]
  },
  {
   "cell_type": "code",
   "execution_count": 290,
   "metadata": {},
   "outputs": [
    {
     "data": {
      "text/html": [
       "<div>\n",
       "<style scoped>\n",
       "    .dataframe tbody tr th:only-of-type {\n",
       "        vertical-align: middle;\n",
       "    }\n",
       "\n",
       "    .dataframe tbody tr th {\n",
       "        vertical-align: top;\n",
       "    }\n",
       "\n",
       "    .dataframe thead th {\n",
       "        text-align: right;\n",
       "    }\n",
       "</style>\n",
       "<table border=\"1\" class=\"dataframe\">\n",
       "  <thead>\n",
       "    <tr style=\"text-align: right;\">\n",
       "      <th></th>\n",
       "      <th>Actual</th>\n",
       "      <th>Tx No Purchase Probability</th>\n",
       "      <th>Decile</th>\n",
       "    </tr>\n",
       "  </thead>\n",
       "  <tbody>\n",
       "    <tr>\n",
       "      <th>60953</th>\n",
       "      <td>0</td>\n",
       "      <td>0.999998</td>\n",
       "      <td>1</td>\n",
       "    </tr>\n",
       "    <tr>\n",
       "      <th>110626</th>\n",
       "      <td>0</td>\n",
       "      <td>0.999997</td>\n",
       "      <td>6</td>\n",
       "    </tr>\n",
       "    <tr>\n",
       "      <th>76968</th>\n",
       "      <td>0</td>\n",
       "      <td>0.999999</td>\n",
       "      <td>1</td>\n",
       "    </tr>\n",
       "    <tr>\n",
       "      <th>131926</th>\n",
       "      <td>0</td>\n",
       "      <td>0.999999</td>\n",
       "      <td>1</td>\n",
       "    </tr>\n",
       "    <tr>\n",
       "      <th>108267</th>\n",
       "      <td>0</td>\n",
       "      <td>0.999995</td>\n",
       "      <td>8</td>\n",
       "    </tr>\n",
       "  </tbody>\n",
       "</table>\n",
       "</div>"
      ],
      "text/plain": [
       "        Actual  Tx No Purchase Probability  Decile\n",
       "60953        0                    0.999998       1\n",
       "110626       0                    0.999997       6\n",
       "76968        0                    0.999999       1\n",
       "131926       0                    0.999999       1\n",
       "108267       0                    0.999995       8"
      ]
     },
     "execution_count": 290,
     "metadata": {},
     "output_type": "execute_result"
    }
   ],
   "source": [
    "propensity.sample(5)"
   ]
  },
  {
   "cell_type": "code",
   "execution_count": 292,
   "metadata": {
    "scrolled": false
   },
   "outputs": [
    {
     "data": {
      "text/html": [
       "<div>\n",
       "<style scoped>\n",
       "    .dataframe tbody tr th:only-of-type {\n",
       "        vertical-align: middle;\n",
       "    }\n",
       "\n",
       "    .dataframe tbody tr th {\n",
       "        vertical-align: top;\n",
       "    }\n",
       "\n",
       "    .dataframe thead th {\n",
       "        text-align: right;\n",
       "    }\n",
       "</style>\n",
       "<table border=\"1\" class=\"dataframe\">\n",
       "  <thead>\n",
       "    <tr style=\"text-align: right;\">\n",
       "      <th>Actual</th>\n",
       "      <th>0</th>\n",
       "      <th>1</th>\n",
       "    </tr>\n",
       "    <tr>\n",
       "      <th>Decile</th>\n",
       "      <th></th>\n",
       "      <th></th>\n",
       "    </tr>\n",
       "  </thead>\n",
       "  <tbody>\n",
       "    <tr>\n",
       "      <th>1</th>\n",
       "      <td>7478</td>\n",
       "      <td>96</td>\n",
       "    </tr>\n",
       "    <tr>\n",
       "      <th>2</th>\n",
       "      <td>8312</td>\n",
       "      <td>14</td>\n",
       "    </tr>\n",
       "    <tr>\n",
       "      <th>3</th>\n",
       "      <td>5355</td>\n",
       "      <td>19</td>\n",
       "    </tr>\n",
       "    <tr>\n",
       "      <th>4</th>\n",
       "      <td>8332</td>\n",
       "      <td>156</td>\n",
       "    </tr>\n",
       "    <tr>\n",
       "      <th>5</th>\n",
       "      <td>7814</td>\n",
       "      <td>134</td>\n",
       "    </tr>\n",
       "    <tr>\n",
       "      <th>6</th>\n",
       "      <td>13571</td>\n",
       "      <td>112</td>\n",
       "    </tr>\n",
       "    <tr>\n",
       "      <th>7</th>\n",
       "      <td>1230</td>\n",
       "      <td>32</td>\n",
       "    </tr>\n",
       "    <tr>\n",
       "      <th>8</th>\n",
       "      <td>2490</td>\n",
       "      <td>34</td>\n",
       "    </tr>\n",
       "    <tr>\n",
       "      <th>9</th>\n",
       "      <td>13497</td>\n",
       "      <td>227</td>\n",
       "    </tr>\n",
       "    <tr>\n",
       "      <th>10</th>\n",
       "      <td>6657</td>\n",
       "      <td>268</td>\n",
       "    </tr>\n",
       "  </tbody>\n",
       "</table>\n",
       "</div>"
      ],
      "text/plain": [
       "Actual      0    1\n",
       "Decile            \n",
       "1        7478   96\n",
       "2        8312   14\n",
       "3        5355   19\n",
       "4        8332  156\n",
       "5        7814  134\n",
       "6       13571  112\n",
       "7        1230   32\n",
       "8        2490   34\n",
       "9       13497  227\n",
       "10       6657  268"
      ]
     },
     "execution_count": 292,
     "metadata": {},
     "output_type": "execute_result"
    }
   ],
   "source": [
    "table=propensity.groupby(['Decile','Actual']).size().unstack()\n",
    "table"
   ]
  },
  {
   "cell_type": "code",
   "execution_count": 293,
   "metadata": {
    "scrolled": true
   },
   "outputs": [
    {
     "data": {
      "text/plain": [
       "9     13724\n",
       "6     13683\n",
       "4      8488\n",
       "2      8326\n",
       "5      7948\n",
       "1      7574\n",
       "10     6925\n",
       "3      5374\n",
       "8      2524\n",
       "7      1262\n",
       "Name: Decile, dtype: int64"
      ]
     },
     "execution_count": 293,
     "metadata": {},
     "output_type": "execute_result"
    }
   ],
   "source": [
    "#total count in each decile\n",
    "propensity.Decile.value_counts()"
   ]
  },
  {
   "cell_type": "code",
   "execution_count": 301,
   "metadata": {
    "scrolled": true
   },
   "outputs": [
    {
     "data": {
      "text/html": [
       "<div>\n",
       "<style scoped>\n",
       "    .dataframe tbody tr th:only-of-type {\n",
       "        vertical-align: middle;\n",
       "    }\n",
       "\n",
       "    .dataframe tbody tr th {\n",
       "        vertical-align: top;\n",
       "    }\n",
       "\n",
       "    .dataframe thead th {\n",
       "        text-align: right;\n",
       "    }\n",
       "</style>\n",
       "<table border=\"1\" class=\"dataframe\">\n",
       "  <thead>\n",
       "    <tr style=\"text-align: right;\">\n",
       "      <th></th>\n",
       "      <th>Actual</th>\n",
       "      <th>Total</th>\n",
       "      <th>Tx Conversion Rate</th>\n",
       "    </tr>\n",
       "  </thead>\n",
       "  <tbody>\n",
       "    <tr>\n",
       "      <th>1</th>\n",
       "      <td>96</td>\n",
       "      <td>7574</td>\n",
       "      <td>0.012675</td>\n",
       "    </tr>\n",
       "    <tr>\n",
       "      <th>2</th>\n",
       "      <td>14</td>\n",
       "      <td>8326</td>\n",
       "      <td>0.001681</td>\n",
       "    </tr>\n",
       "    <tr>\n",
       "      <th>3</th>\n",
       "      <td>19</td>\n",
       "      <td>5374</td>\n",
       "      <td>0.003536</td>\n",
       "    </tr>\n",
       "    <tr>\n",
       "      <th>4</th>\n",
       "      <td>156</td>\n",
       "      <td>8488</td>\n",
       "      <td>0.018379</td>\n",
       "    </tr>\n",
       "    <tr>\n",
       "      <th>5</th>\n",
       "      <td>134</td>\n",
       "      <td>7948</td>\n",
       "      <td>0.016860</td>\n",
       "    </tr>\n",
       "    <tr>\n",
       "      <th>6</th>\n",
       "      <td>112</td>\n",
       "      <td>13683</td>\n",
       "      <td>0.008185</td>\n",
       "    </tr>\n",
       "    <tr>\n",
       "      <th>7</th>\n",
       "      <td>32</td>\n",
       "      <td>1262</td>\n",
       "      <td>0.025357</td>\n",
       "    </tr>\n",
       "    <tr>\n",
       "      <th>8</th>\n",
       "      <td>34</td>\n",
       "      <td>2524</td>\n",
       "      <td>0.013471</td>\n",
       "    </tr>\n",
       "    <tr>\n",
       "      <th>9</th>\n",
       "      <td>227</td>\n",
       "      <td>13724</td>\n",
       "      <td>0.016540</td>\n",
       "    </tr>\n",
       "    <tr>\n",
       "      <th>10</th>\n",
       "      <td>268</td>\n",
       "      <td>6925</td>\n",
       "      <td>0.038700</td>\n",
       "    </tr>\n",
       "  </tbody>\n",
       "</table>\n",
       "</div>"
      ],
      "text/plain": [
       "    Actual  Total  Tx Conversion Rate\n",
       "1       96   7574            0.012675\n",
       "2       14   8326            0.001681\n",
       "3       19   5374            0.003536\n",
       "4      156   8488            0.018379\n",
       "5      134   7948            0.016860\n",
       "6      112  13683            0.008185\n",
       "7       32   1262            0.025357\n",
       "8       34   2524            0.013471\n",
       "9      227  13724            0.016540\n",
       "10     268   6925            0.038700"
      ]
     },
     "execution_count": 301,
     "metadata": {},
     "output_type": "execute_result"
    }
   ],
   "source": [
    "#how many converted in each decile\n",
    "total=propensity.Decile.value_counts()\n",
    "tx_conversion_rate=pd.DataFrame({\"Actual\":table[1],\"Total\":total,\"Tx Conversion Rate\":table[1]/total})\n",
    "tx_conversion_rate"
   ]
  },
  {
   "cell_type": "code",
   "execution_count": 302,
   "metadata": {},
   "outputs": [
    {
     "data": {
      "text/plain": [
       "0.03736466860311592"
      ]
     },
     "execution_count": 302,
     "metadata": {},
     "output_type": "execute_result"
    }
   ],
   "source": [
    "#manual conversion of decile 1 to confirm conversion is correct\n",
    "283/7574"
   ]
  },
  {
   "cell_type": "code",
   "execution_count": 305,
   "metadata": {},
   "outputs": [
    {
     "data": {
      "text/plain": [
       "1    -0.146434\n",
       "2    -0.886764\n",
       "3    -0.761907\n",
       "4     0.237686\n",
       "5     0.135372\n",
       "6    -0.448776\n",
       "7     0.707583\n",
       "8    -0.092847\n",
       "9     0.113875\n",
       "10    1.606191\n",
       "Name: Tx Conversion Rate, dtype: float64"
      ]
     },
     "execution_count": 305,
     "metadata": {},
     "output_type": "execute_result"
    }
   ],
   "source": [
    "#lift over control= (treatment conversion rate - control conversion rate)/control churn rate\n",
    "lift=(tx_conversion_rate['Tx Conversion Rate']-control_conversion_rate)/control_conversion_rate\n",
    "lift"
   ]
  },
  {
   "cell_type": "code",
   "execution_count": 306,
   "metadata": {},
   "outputs": [
    {
     "data": {
      "text/html": [
       "<div>\n",
       "<style scoped>\n",
       "    .dataframe tbody tr th:only-of-type {\n",
       "        vertical-align: middle;\n",
       "    }\n",
       "\n",
       "    .dataframe tbody tr th {\n",
       "        vertical-align: top;\n",
       "    }\n",
       "\n",
       "    .dataframe thead th {\n",
       "        text-align: right;\n",
       "    }\n",
       "</style>\n",
       "<table border=\"1\" class=\"dataframe\">\n",
       "  <thead>\n",
       "    <tr style=\"text-align: right;\">\n",
       "      <th></th>\n",
       "      <th>Actual</th>\n",
       "      <th>Total</th>\n",
       "      <th>Tx Conversion Rate</th>\n",
       "      <th>Lift</th>\n",
       "    </tr>\n",
       "  </thead>\n",
       "  <tbody>\n",
       "    <tr>\n",
       "      <th>1</th>\n",
       "      <td>96</td>\n",
       "      <td>7574</td>\n",
       "      <td>0.012675</td>\n",
       "      <td>-0.146434</td>\n",
       "    </tr>\n",
       "    <tr>\n",
       "      <th>2</th>\n",
       "      <td>14</td>\n",
       "      <td>8326</td>\n",
       "      <td>0.001681</td>\n",
       "      <td>-0.886764</td>\n",
       "    </tr>\n",
       "    <tr>\n",
       "      <th>3</th>\n",
       "      <td>19</td>\n",
       "      <td>5374</td>\n",
       "      <td>0.003536</td>\n",
       "      <td>-0.761907</td>\n",
       "    </tr>\n",
       "    <tr>\n",
       "      <th>4</th>\n",
       "      <td>156</td>\n",
       "      <td>8488</td>\n",
       "      <td>0.018379</td>\n",
       "      <td>0.237686</td>\n",
       "    </tr>\n",
       "    <tr>\n",
       "      <th>5</th>\n",
       "      <td>134</td>\n",
       "      <td>7948</td>\n",
       "      <td>0.016860</td>\n",
       "      <td>0.135372</td>\n",
       "    </tr>\n",
       "    <tr>\n",
       "      <th>6</th>\n",
       "      <td>112</td>\n",
       "      <td>13683</td>\n",
       "      <td>0.008185</td>\n",
       "      <td>-0.448776</td>\n",
       "    </tr>\n",
       "    <tr>\n",
       "      <th>7</th>\n",
       "      <td>32</td>\n",
       "      <td>1262</td>\n",
       "      <td>0.025357</td>\n",
       "      <td>0.707583</td>\n",
       "    </tr>\n",
       "    <tr>\n",
       "      <th>8</th>\n",
       "      <td>34</td>\n",
       "      <td>2524</td>\n",
       "      <td>0.013471</td>\n",
       "      <td>-0.092847</td>\n",
       "    </tr>\n",
       "    <tr>\n",
       "      <th>9</th>\n",
       "      <td>227</td>\n",
       "      <td>13724</td>\n",
       "      <td>0.016540</td>\n",
       "      <td>0.113875</td>\n",
       "    </tr>\n",
       "    <tr>\n",
       "      <th>10</th>\n",
       "      <td>268</td>\n",
       "      <td>6925</td>\n",
       "      <td>0.038700</td>\n",
       "      <td>1.606191</td>\n",
       "    </tr>\n",
       "  </tbody>\n",
       "</table>\n",
       "</div>"
      ],
      "text/plain": [
       "    Actual  Total  Tx Conversion Rate      Lift\n",
       "1       96   7574            0.012675 -0.146434\n",
       "2       14   8326            0.001681 -0.886764\n",
       "3       19   5374            0.003536 -0.761907\n",
       "4      156   8488            0.018379  0.237686\n",
       "5      134   7948            0.016860  0.135372\n",
       "6      112  13683            0.008185 -0.448776\n",
       "7       32   1262            0.025357  0.707583\n",
       "8       34   2524            0.013471 -0.092847\n",
       "9      227  13724            0.016540  0.113875\n",
       "10     268   6925            0.038700  1.606191"
      ]
     },
     "execution_count": 306,
     "metadata": {},
     "output_type": "execute_result"
    }
   ],
   "source": [
    "#add lift column\n",
    "tx_conversion_rate['Lift'] = lift\n",
    "tx_conversion_rate"
   ]
  },
  {
   "cell_type": "code",
   "execution_count": 325,
   "metadata": {},
   "outputs": [],
   "source": [
    "#apply control conversion rate to people in deciles with higher conversion rate than baseline\n",
    "tx_conversion_rate.loc[tx_conversion_rate['Lift'] >= control_conversion_rate, 'Control Conversion Rate'] = control_conversion_rate \n",
    "tx_conversion_rate.loc[tx_conversion_rate['Lift'] < control_conversion_rate, 'Control Conversion Rate'] = \"-\" "
   ]
  },
  {
   "cell_type": "code",
   "execution_count": 326,
   "metadata": {},
   "outputs": [
    {
     "data": {
      "text/html": [
       "<div>\n",
       "<style scoped>\n",
       "    .dataframe tbody tr th:only-of-type {\n",
       "        vertical-align: middle;\n",
       "    }\n",
       "\n",
       "    .dataframe tbody tr th {\n",
       "        vertical-align: top;\n",
       "    }\n",
       "\n",
       "    .dataframe thead th {\n",
       "        text-align: right;\n",
       "    }\n",
       "</style>\n",
       "<table border=\"1\" class=\"dataframe\">\n",
       "  <thead>\n",
       "    <tr style=\"text-align: right;\">\n",
       "      <th></th>\n",
       "      <th>Actual</th>\n",
       "      <th>Total</th>\n",
       "      <th>Tx Conversion Rate</th>\n",
       "      <th>Lift</th>\n",
       "      <th>Control Conversion Rate</th>\n",
       "    </tr>\n",
       "  </thead>\n",
       "  <tbody>\n",
       "    <tr>\n",
       "      <th>1</th>\n",
       "      <td>96</td>\n",
       "      <td>7574</td>\n",
       "      <td>0.012675</td>\n",
       "      <td>-0.146434</td>\n",
       "      <td>-</td>\n",
       "    </tr>\n",
       "    <tr>\n",
       "      <th>2</th>\n",
       "      <td>14</td>\n",
       "      <td>8326</td>\n",
       "      <td>0.001681</td>\n",
       "      <td>-0.886764</td>\n",
       "      <td>-</td>\n",
       "    </tr>\n",
       "    <tr>\n",
       "      <th>3</th>\n",
       "      <td>19</td>\n",
       "      <td>5374</td>\n",
       "      <td>0.003536</td>\n",
       "      <td>-0.761907</td>\n",
       "      <td>-</td>\n",
       "    </tr>\n",
       "    <tr>\n",
       "      <th>4</th>\n",
       "      <td>156</td>\n",
       "      <td>8488</td>\n",
       "      <td>0.018379</td>\n",
       "      <td>0.237686</td>\n",
       "      <td>0.0148494</td>\n",
       "    </tr>\n",
       "    <tr>\n",
       "      <th>5</th>\n",
       "      <td>134</td>\n",
       "      <td>7948</td>\n",
       "      <td>0.016860</td>\n",
       "      <td>0.135372</td>\n",
       "      <td>0.0148494</td>\n",
       "    </tr>\n",
       "    <tr>\n",
       "      <th>6</th>\n",
       "      <td>112</td>\n",
       "      <td>13683</td>\n",
       "      <td>0.008185</td>\n",
       "      <td>-0.448776</td>\n",
       "      <td>-</td>\n",
       "    </tr>\n",
       "    <tr>\n",
       "      <th>7</th>\n",
       "      <td>32</td>\n",
       "      <td>1262</td>\n",
       "      <td>0.025357</td>\n",
       "      <td>0.707583</td>\n",
       "      <td>0.0148494</td>\n",
       "    </tr>\n",
       "    <tr>\n",
       "      <th>8</th>\n",
       "      <td>34</td>\n",
       "      <td>2524</td>\n",
       "      <td>0.013471</td>\n",
       "      <td>-0.092847</td>\n",
       "      <td>-</td>\n",
       "    </tr>\n",
       "    <tr>\n",
       "      <th>9</th>\n",
       "      <td>227</td>\n",
       "      <td>13724</td>\n",
       "      <td>0.016540</td>\n",
       "      <td>0.113875</td>\n",
       "      <td>0.0148494</td>\n",
       "    </tr>\n",
       "    <tr>\n",
       "      <th>10</th>\n",
       "      <td>268</td>\n",
       "      <td>6925</td>\n",
       "      <td>0.038700</td>\n",
       "      <td>1.606191</td>\n",
       "      <td>0.0148494</td>\n",
       "    </tr>\n",
       "  </tbody>\n",
       "</table>\n",
       "</div>"
      ],
      "text/plain": [
       "    Actual  Total  Tx Conversion Rate      Lift Control Conversion Rate\n",
       "1       96   7574            0.012675 -0.146434                       -\n",
       "2       14   8326            0.001681 -0.886764                       -\n",
       "3       19   5374            0.003536 -0.761907                       -\n",
       "4      156   8488            0.018379  0.237686               0.0148494\n",
       "5      134   7948            0.016860  0.135372               0.0148494\n",
       "6      112  13683            0.008185 -0.448776                       -\n",
       "7       32   1262            0.025357  0.707583               0.0148494\n",
       "8       34   2524            0.013471 -0.092847                       -\n",
       "9      227  13724            0.016540  0.113875               0.0148494\n",
       "10     268   6925            0.038700  1.606191               0.0148494"
      ]
     },
     "execution_count": 326,
     "metadata": {},
     "output_type": "execute_result"
    }
   ],
   "source": [
    "tx_conversion_rate"
   ]
  }
 ],
 "metadata": {
  "kernelspec": {
   "display_name": "Python 3",
   "language": "python",
   "name": "python3"
  },
  "language_info": {
   "codemirror_mode": {
    "name": "ipython",
    "version": 3
   },
   "file_extension": ".py",
   "mimetype": "text/x-python",
   "name": "python",
   "nbconvert_exporter": "python",
   "pygments_lexer": "ipython3",
   "version": "3.7.6"
  }
 },
 "nbformat": 4,
 "nbformat_minor": 4
}
