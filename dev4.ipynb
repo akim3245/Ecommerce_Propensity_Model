{
 "cells": [
  {
   "cell_type": "code",
   "execution_count": 1,
   "metadata": {},
   "outputs": [],
   "source": [
    "#import libraries\n",
    "import pandas as pd\n",
    "import numpy as np\n",
    "import seaborn as sns\n",
    "import matplotlib.pyplot as plt\n",
    "%matplotlib inline\n",
    "sns.set()"
   ]
  },
  {
   "cell_type": "code",
   "execution_count": 2,
   "metadata": {},
   "outputs": [
    {
     "data": {
      "text/html": [
       "<div>\n",
       "<style scoped>\n",
       "    .dataframe tbody tr th:only-of-type {\n",
       "        vertical-align: middle;\n",
       "    }\n",
       "\n",
       "    .dataframe tbody tr th {\n",
       "        vertical-align: top;\n",
       "    }\n",
       "\n",
       "    .dataframe thead th {\n",
       "        text-align: right;\n",
       "    }\n",
       "</style>\n",
       "<table border=\"1\" class=\"dataframe\">\n",
       "  <thead>\n",
       "    <tr style=\"text-align: right;\">\n",
       "      <th></th>\n",
       "      <th>UserID</th>\n",
       "      <th>basket_icon_click</th>\n",
       "      <th>basket_add_list</th>\n",
       "      <th>basket_add_detail</th>\n",
       "      <th>sort_by</th>\n",
       "      <th>image_picker</th>\n",
       "      <th>account_page_click</th>\n",
       "      <th>promo_banner_click</th>\n",
       "      <th>detail_wishlist_add</th>\n",
       "      <th>list_size_dropdown</th>\n",
       "      <th>...</th>\n",
       "      <th>saw_sizecharts</th>\n",
       "      <th>saw_delivery</th>\n",
       "      <th>saw_account_upgrade</th>\n",
       "      <th>saw_homepage</th>\n",
       "      <th>device_mobile</th>\n",
       "      <th>device_computer</th>\n",
       "      <th>device_tablet</th>\n",
       "      <th>returning_user</th>\n",
       "      <th>loc_uk</th>\n",
       "      <th>ordered</th>\n",
       "    </tr>\n",
       "  </thead>\n",
       "  <tbody>\n",
       "    <tr>\n",
       "      <th>0</th>\n",
       "      <td>a720-6b732349-a720-4862-bd21-644732</td>\n",
       "      <td>0</td>\n",
       "      <td>0</td>\n",
       "      <td>0</td>\n",
       "      <td>0</td>\n",
       "      <td>0</td>\n",
       "      <td>0</td>\n",
       "      <td>0</td>\n",
       "      <td>0</td>\n",
       "      <td>0</td>\n",
       "      <td>...</td>\n",
       "      <td>0</td>\n",
       "      <td>0</td>\n",
       "      <td>0</td>\n",
       "      <td>0</td>\n",
       "      <td>1</td>\n",
       "      <td>0</td>\n",
       "      <td>0</td>\n",
       "      <td>0</td>\n",
       "      <td>1</td>\n",
       "      <td>0</td>\n",
       "    </tr>\n",
       "    <tr>\n",
       "      <th>1</th>\n",
       "      <td>a0c0-6b73247c-a0c0-4bd9-8baa-797356</td>\n",
       "      <td>0</td>\n",
       "      <td>0</td>\n",
       "      <td>0</td>\n",
       "      <td>0</td>\n",
       "      <td>0</td>\n",
       "      <td>0</td>\n",
       "      <td>0</td>\n",
       "      <td>0</td>\n",
       "      <td>0</td>\n",
       "      <td>...</td>\n",
       "      <td>0</td>\n",
       "      <td>0</td>\n",
       "      <td>0</td>\n",
       "      <td>0</td>\n",
       "      <td>1</td>\n",
       "      <td>0</td>\n",
       "      <td>0</td>\n",
       "      <td>0</td>\n",
       "      <td>1</td>\n",
       "      <td>0</td>\n",
       "    </tr>\n",
       "    <tr>\n",
       "      <th>2</th>\n",
       "      <td>86a8-6b735c67-86a8-407b-ba24-333055</td>\n",
       "      <td>0</td>\n",
       "      <td>0</td>\n",
       "      <td>0</td>\n",
       "      <td>0</td>\n",
       "      <td>0</td>\n",
       "      <td>0</td>\n",
       "      <td>0</td>\n",
       "      <td>0</td>\n",
       "      <td>0</td>\n",
       "      <td>...</td>\n",
       "      <td>0</td>\n",
       "      <td>0</td>\n",
       "      <td>0</td>\n",
       "      <td>0</td>\n",
       "      <td>1</td>\n",
       "      <td>0</td>\n",
       "      <td>0</td>\n",
       "      <td>1</td>\n",
       "      <td>1</td>\n",
       "      <td>0</td>\n",
       "    </tr>\n",
       "    <tr>\n",
       "      <th>3</th>\n",
       "      <td>6a3d-6b736346-6a3d-4085-934b-396834</td>\n",
       "      <td>0</td>\n",
       "      <td>0</td>\n",
       "      <td>0</td>\n",
       "      <td>0</td>\n",
       "      <td>0</td>\n",
       "      <td>0</td>\n",
       "      <td>0</td>\n",
       "      <td>0</td>\n",
       "      <td>0</td>\n",
       "      <td>...</td>\n",
       "      <td>0</td>\n",
       "      <td>0</td>\n",
       "      <td>0</td>\n",
       "      <td>0</td>\n",
       "      <td>1</td>\n",
       "      <td>0</td>\n",
       "      <td>0</td>\n",
       "      <td>1</td>\n",
       "      <td>1</td>\n",
       "      <td>0</td>\n",
       "    </tr>\n",
       "    <tr>\n",
       "      <th>4</th>\n",
       "      <td>b74a-6b737717-b74a-45c3-8c6a-421140</td>\n",
       "      <td>0</td>\n",
       "      <td>1</td>\n",
       "      <td>0</td>\n",
       "      <td>1</td>\n",
       "      <td>0</td>\n",
       "      <td>0</td>\n",
       "      <td>0</td>\n",
       "      <td>0</td>\n",
       "      <td>1</td>\n",
       "      <td>...</td>\n",
       "      <td>0</td>\n",
       "      <td>0</td>\n",
       "      <td>0</td>\n",
       "      <td>1</td>\n",
       "      <td>0</td>\n",
       "      <td>0</td>\n",
       "      <td>1</td>\n",
       "      <td>0</td>\n",
       "      <td>1</td>\n",
       "      <td>1</td>\n",
       "    </tr>\n",
       "  </tbody>\n",
       "</table>\n",
       "<p>5 rows × 25 columns</p>\n",
       "</div>"
      ],
      "text/plain": [
       "                                UserID  basket_icon_click  basket_add_list  \\\n",
       "0  a720-6b732349-a720-4862-bd21-644732                  0                0   \n",
       "1  a0c0-6b73247c-a0c0-4bd9-8baa-797356                  0                0   \n",
       "2  86a8-6b735c67-86a8-407b-ba24-333055                  0                0   \n",
       "3  6a3d-6b736346-6a3d-4085-934b-396834                  0                0   \n",
       "4  b74a-6b737717-b74a-45c3-8c6a-421140                  0                1   \n",
       "\n",
       "   basket_add_detail  sort_by  image_picker  account_page_click  \\\n",
       "0                  0        0             0                   0   \n",
       "1                  0        0             0                   0   \n",
       "2                  0        0             0                   0   \n",
       "3                  0        0             0                   0   \n",
       "4                  0        1             0                   0   \n",
       "\n",
       "   promo_banner_click  detail_wishlist_add  list_size_dropdown  ...  \\\n",
       "0                   0                    0                   0  ...   \n",
       "1                   0                    0                   0  ...   \n",
       "2                   0                    0                   0  ...   \n",
       "3                   0                    0                   0  ...   \n",
       "4                   0                    0                   1  ...   \n",
       "\n",
       "   saw_sizecharts  saw_delivery  saw_account_upgrade  saw_homepage  \\\n",
       "0               0             0                    0             0   \n",
       "1               0             0                    0             0   \n",
       "2               0             0                    0             0   \n",
       "3               0             0                    0             0   \n",
       "4               0             0                    0             1   \n",
       "\n",
       "   device_mobile  device_computer  device_tablet  returning_user  loc_uk  \\\n",
       "0              1                0              0               0       1   \n",
       "1              1                0              0               0       1   \n",
       "2              1                0              0               1       1   \n",
       "3              1                0              0               1       1   \n",
       "4              0                0              1               0       1   \n",
       "\n",
       "   ordered  \n",
       "0        0  \n",
       "1        0  \n",
       "2        0  \n",
       "3        0  \n",
       "4        1  \n",
       "\n",
       "[5 rows x 25 columns]"
      ]
     },
     "execution_count": 2,
     "metadata": {},
     "output_type": "execute_result"
    }
   ],
   "source": [
    "#load data\n",
    "df=pd.read_csv(\"training_sample.csv\")\n",
    "df.head()"
   ]
  },
  {
   "cell_type": "code",
   "execution_count": 3,
   "metadata": {},
   "outputs": [],
   "source": [
    "#drop ID\n",
    "df.drop(['UserID'],axis=1, inplace=True)"
   ]
  },
  {
   "cell_type": "code",
   "execution_count": 4,
   "metadata": {
    "scrolled": true
   },
   "outputs": [
    {
     "data": {
      "text/html": [
       "<div>\n",
       "<style scoped>\n",
       "    .dataframe tbody tr th:only-of-type {\n",
       "        vertical-align: middle;\n",
       "    }\n",
       "\n",
       "    .dataframe tbody tr th {\n",
       "        vertical-align: top;\n",
       "    }\n",
       "\n",
       "    .dataframe thead th {\n",
       "        text-align: right;\n",
       "    }\n",
       "</style>\n",
       "<table border=\"1\" class=\"dataframe\">\n",
       "  <thead>\n",
       "    <tr style=\"text-align: right;\">\n",
       "      <th></th>\n",
       "      <th>basket_icon_click</th>\n",
       "      <th>basket_add_list</th>\n",
       "      <th>basket_add_detail</th>\n",
       "      <th>sort_by</th>\n",
       "      <th>image_picker</th>\n",
       "      <th>account_page_click</th>\n",
       "      <th>promo_banner_click</th>\n",
       "      <th>detail_wishlist_add</th>\n",
       "      <th>list_size_dropdown</th>\n",
       "      <th>closed_minibasket_click</th>\n",
       "      <th>...</th>\n",
       "      <th>saw_sizecharts</th>\n",
       "      <th>saw_delivery</th>\n",
       "      <th>saw_account_upgrade</th>\n",
       "      <th>saw_homepage</th>\n",
       "      <th>device_mobile</th>\n",
       "      <th>device_computer</th>\n",
       "      <th>device_tablet</th>\n",
       "      <th>returning_user</th>\n",
       "      <th>loc_uk</th>\n",
       "      <th>ordered</th>\n",
       "    </tr>\n",
       "  </thead>\n",
       "  <tbody>\n",
       "    <tr>\n",
       "      <th>count</th>\n",
       "      <td>455401.000000</td>\n",
       "      <td>455401.000000</td>\n",
       "      <td>455401.000000</td>\n",
       "      <td>455401.000000</td>\n",
       "      <td>455401.000000</td>\n",
       "      <td>455401.000000</td>\n",
       "      <td>455401.000000</td>\n",
       "      <td>455401.000000</td>\n",
       "      <td>455401.000000</td>\n",
       "      <td>455401.000000</td>\n",
       "      <td>...</td>\n",
       "      <td>455401.000000</td>\n",
       "      <td>455401.000000</td>\n",
       "      <td>455401.000000</td>\n",
       "      <td>455401.000000</td>\n",
       "      <td>455401.000000</td>\n",
       "      <td>455401.000000</td>\n",
       "      <td>455401.000000</td>\n",
       "      <td>455401.000000</td>\n",
       "      <td>455401.000000</td>\n",
       "      <td>455401.000000</td>\n",
       "    </tr>\n",
       "    <tr>\n",
       "      <th>mean</th>\n",
       "      <td>0.099150</td>\n",
       "      <td>0.074521</td>\n",
       "      <td>0.112916</td>\n",
       "      <td>0.036849</td>\n",
       "      <td>0.026735</td>\n",
       "      <td>0.003570</td>\n",
       "      <td>0.016208</td>\n",
       "      <td>0.003511</td>\n",
       "      <td>0.230362</td>\n",
       "      <td>0.017277</td>\n",
       "      <td>...</td>\n",
       "      <td>0.000389</td>\n",
       "      <td>0.005542</td>\n",
       "      <td>0.001096</td>\n",
       "      <td>0.290024</td>\n",
       "      <td>0.680706</td>\n",
       "      <td>0.194220</td>\n",
       "      <td>0.128364</td>\n",
       "      <td>0.534915</td>\n",
       "      <td>0.933224</td>\n",
       "      <td>0.041926</td>\n",
       "    </tr>\n",
       "    <tr>\n",
       "      <th>std</th>\n",
       "      <td>0.298864</td>\n",
       "      <td>0.262617</td>\n",
       "      <td>0.316490</td>\n",
       "      <td>0.188391</td>\n",
       "      <td>0.161307</td>\n",
       "      <td>0.059647</td>\n",
       "      <td>0.126274</td>\n",
       "      <td>0.059151</td>\n",
       "      <td>0.421065</td>\n",
       "      <td>0.130302</td>\n",
       "      <td>...</td>\n",
       "      <td>0.019711</td>\n",
       "      <td>0.074241</td>\n",
       "      <td>0.033084</td>\n",
       "      <td>0.453773</td>\n",
       "      <td>0.466204</td>\n",
       "      <td>0.395599</td>\n",
       "      <td>0.334495</td>\n",
       "      <td>0.498780</td>\n",
       "      <td>0.249634</td>\n",
       "      <td>0.200420</td>\n",
       "    </tr>\n",
       "    <tr>\n",
       "      <th>min</th>\n",
       "      <td>0.000000</td>\n",
       "      <td>0.000000</td>\n",
       "      <td>0.000000</td>\n",
       "      <td>0.000000</td>\n",
       "      <td>0.000000</td>\n",
       "      <td>0.000000</td>\n",
       "      <td>0.000000</td>\n",
       "      <td>0.000000</td>\n",
       "      <td>0.000000</td>\n",
       "      <td>0.000000</td>\n",
       "      <td>...</td>\n",
       "      <td>0.000000</td>\n",
       "      <td>0.000000</td>\n",
       "      <td>0.000000</td>\n",
       "      <td>0.000000</td>\n",
       "      <td>0.000000</td>\n",
       "      <td>0.000000</td>\n",
       "      <td>0.000000</td>\n",
       "      <td>0.000000</td>\n",
       "      <td>0.000000</td>\n",
       "      <td>0.000000</td>\n",
       "    </tr>\n",
       "    <tr>\n",
       "      <th>25%</th>\n",
       "      <td>0.000000</td>\n",
       "      <td>0.000000</td>\n",
       "      <td>0.000000</td>\n",
       "      <td>0.000000</td>\n",
       "      <td>0.000000</td>\n",
       "      <td>0.000000</td>\n",
       "      <td>0.000000</td>\n",
       "      <td>0.000000</td>\n",
       "      <td>0.000000</td>\n",
       "      <td>0.000000</td>\n",
       "      <td>...</td>\n",
       "      <td>0.000000</td>\n",
       "      <td>0.000000</td>\n",
       "      <td>0.000000</td>\n",
       "      <td>0.000000</td>\n",
       "      <td>0.000000</td>\n",
       "      <td>0.000000</td>\n",
       "      <td>0.000000</td>\n",
       "      <td>0.000000</td>\n",
       "      <td>1.000000</td>\n",
       "      <td>0.000000</td>\n",
       "    </tr>\n",
       "    <tr>\n",
       "      <th>50%</th>\n",
       "      <td>0.000000</td>\n",
       "      <td>0.000000</td>\n",
       "      <td>0.000000</td>\n",
       "      <td>0.000000</td>\n",
       "      <td>0.000000</td>\n",
       "      <td>0.000000</td>\n",
       "      <td>0.000000</td>\n",
       "      <td>0.000000</td>\n",
       "      <td>0.000000</td>\n",
       "      <td>0.000000</td>\n",
       "      <td>...</td>\n",
       "      <td>0.000000</td>\n",
       "      <td>0.000000</td>\n",
       "      <td>0.000000</td>\n",
       "      <td>0.000000</td>\n",
       "      <td>1.000000</td>\n",
       "      <td>0.000000</td>\n",
       "      <td>0.000000</td>\n",
       "      <td>1.000000</td>\n",
       "      <td>1.000000</td>\n",
       "      <td>0.000000</td>\n",
       "    </tr>\n",
       "    <tr>\n",
       "      <th>75%</th>\n",
       "      <td>0.000000</td>\n",
       "      <td>0.000000</td>\n",
       "      <td>0.000000</td>\n",
       "      <td>0.000000</td>\n",
       "      <td>0.000000</td>\n",
       "      <td>0.000000</td>\n",
       "      <td>0.000000</td>\n",
       "      <td>0.000000</td>\n",
       "      <td>0.000000</td>\n",
       "      <td>0.000000</td>\n",
       "      <td>...</td>\n",
       "      <td>0.000000</td>\n",
       "      <td>0.000000</td>\n",
       "      <td>0.000000</td>\n",
       "      <td>1.000000</td>\n",
       "      <td>1.000000</td>\n",
       "      <td>0.000000</td>\n",
       "      <td>0.000000</td>\n",
       "      <td>1.000000</td>\n",
       "      <td>1.000000</td>\n",
       "      <td>0.000000</td>\n",
       "    </tr>\n",
       "    <tr>\n",
       "      <th>max</th>\n",
       "      <td>1.000000</td>\n",
       "      <td>1.000000</td>\n",
       "      <td>1.000000</td>\n",
       "      <td>1.000000</td>\n",
       "      <td>1.000000</td>\n",
       "      <td>1.000000</td>\n",
       "      <td>1.000000</td>\n",
       "      <td>1.000000</td>\n",
       "      <td>1.000000</td>\n",
       "      <td>1.000000</td>\n",
       "      <td>...</td>\n",
       "      <td>1.000000</td>\n",
       "      <td>1.000000</td>\n",
       "      <td>1.000000</td>\n",
       "      <td>1.000000</td>\n",
       "      <td>1.000000</td>\n",
       "      <td>1.000000</td>\n",
       "      <td>1.000000</td>\n",
       "      <td>1.000000</td>\n",
       "      <td>1.000000</td>\n",
       "      <td>1.000000</td>\n",
       "    </tr>\n",
       "  </tbody>\n",
       "</table>\n",
       "<p>8 rows × 24 columns</p>\n",
       "</div>"
      ],
      "text/plain": [
       "       basket_icon_click  basket_add_list  basket_add_detail        sort_by  \\\n",
       "count      455401.000000    455401.000000      455401.000000  455401.000000   \n",
       "mean            0.099150         0.074521           0.112916       0.036849   \n",
       "std             0.298864         0.262617           0.316490       0.188391   \n",
       "min             0.000000         0.000000           0.000000       0.000000   \n",
       "25%             0.000000         0.000000           0.000000       0.000000   \n",
       "50%             0.000000         0.000000           0.000000       0.000000   \n",
       "75%             0.000000         0.000000           0.000000       0.000000   \n",
       "max             1.000000         1.000000           1.000000       1.000000   \n",
       "\n",
       "        image_picker  account_page_click  promo_banner_click  \\\n",
       "count  455401.000000       455401.000000       455401.000000   \n",
       "mean        0.026735            0.003570            0.016208   \n",
       "std         0.161307            0.059647            0.126274   \n",
       "min         0.000000            0.000000            0.000000   \n",
       "25%         0.000000            0.000000            0.000000   \n",
       "50%         0.000000            0.000000            0.000000   \n",
       "75%         0.000000            0.000000            0.000000   \n",
       "max         1.000000            1.000000            1.000000   \n",
       "\n",
       "       detail_wishlist_add  list_size_dropdown  closed_minibasket_click  ...  \\\n",
       "count        455401.000000       455401.000000            455401.000000  ...   \n",
       "mean              0.003511            0.230362                 0.017277  ...   \n",
       "std               0.059151            0.421065                 0.130302  ...   \n",
       "min               0.000000            0.000000                 0.000000  ...   \n",
       "25%               0.000000            0.000000                 0.000000  ...   \n",
       "50%               0.000000            0.000000                 0.000000  ...   \n",
       "75%               0.000000            0.000000                 0.000000  ...   \n",
       "max               1.000000            1.000000                 1.000000  ...   \n",
       "\n",
       "       saw_sizecharts   saw_delivery  saw_account_upgrade   saw_homepage  \\\n",
       "count   455401.000000  455401.000000        455401.000000  455401.000000   \n",
       "mean         0.000389       0.005542             0.001096       0.290024   \n",
       "std          0.019711       0.074241             0.033084       0.453773   \n",
       "min          0.000000       0.000000             0.000000       0.000000   \n",
       "25%          0.000000       0.000000             0.000000       0.000000   \n",
       "50%          0.000000       0.000000             0.000000       0.000000   \n",
       "75%          0.000000       0.000000             0.000000       1.000000   \n",
       "max          1.000000       1.000000             1.000000       1.000000   \n",
       "\n",
       "       device_mobile  device_computer  device_tablet  returning_user  \\\n",
       "count  455401.000000    455401.000000  455401.000000   455401.000000   \n",
       "mean        0.680706         0.194220       0.128364        0.534915   \n",
       "std         0.466204         0.395599       0.334495        0.498780   \n",
       "min         0.000000         0.000000       0.000000        0.000000   \n",
       "25%         0.000000         0.000000       0.000000        0.000000   \n",
       "50%         1.000000         0.000000       0.000000        1.000000   \n",
       "75%         1.000000         0.000000       0.000000        1.000000   \n",
       "max         1.000000         1.000000       1.000000        1.000000   \n",
       "\n",
       "              loc_uk        ordered  \n",
       "count  455401.000000  455401.000000  \n",
       "mean        0.933224       0.041926  \n",
       "std         0.249634       0.200420  \n",
       "min         0.000000       0.000000  \n",
       "25%         1.000000       0.000000  \n",
       "50%         1.000000       0.000000  \n",
       "75%         1.000000       0.000000  \n",
       "max         1.000000       1.000000  \n",
       "\n",
       "[8 rows x 24 columns]"
      ]
     },
     "execution_count": 4,
     "metadata": {},
     "output_type": "execute_result"
    }
   ],
   "source": [
    "#decriptive stats\n",
    "df.describe()"
   ]
  },
  {
   "cell_type": "code",
   "execution_count": 5,
   "metadata": {
    "scrolled": false
   },
   "outputs": [
    {
     "data": {
      "text/plain": [
       "basket_icon_click          0\n",
       "basket_add_list            0\n",
       "basket_add_detail          0\n",
       "sort_by                    0\n",
       "image_picker               0\n",
       "account_page_click         0\n",
       "promo_banner_click         0\n",
       "detail_wishlist_add        0\n",
       "list_size_dropdown         0\n",
       "closed_minibasket_click    0\n",
       "checked_delivery_detail    0\n",
       "checked_returns_detail     0\n",
       "sign_in                    0\n",
       "saw_checkout               0\n",
       "saw_sizecharts             0\n",
       "saw_delivery               0\n",
       "saw_account_upgrade        0\n",
       "saw_homepage               0\n",
       "device_mobile              0\n",
       "device_computer            0\n",
       "device_tablet              0\n",
       "returning_user             0\n",
       "loc_uk                     0\n",
       "ordered                    0\n",
       "dtype: int64"
      ]
     },
     "execution_count": 5,
     "metadata": {},
     "output_type": "execute_result"
    }
   ],
   "source": [
    "#check for null values\n",
    "df.isnull().sum()"
   ]
  },
  {
   "cell_type": "code",
   "execution_count": 6,
   "metadata": {
    "scrolled": false
   },
   "outputs": [
    {
     "data": {
      "text/plain": [
       "<matplotlib.axes._subplots.AxesSubplot at 0x11060d610>"
      ]
     },
     "execution_count": 6,
     "metadata": {},
     "output_type": "execute_result"
    },
    {
     "data": {
      "image/png": "[encoded data removed]",
      "text/plain": [
       "<Figure size 864x360 with 1 Axes>"
      ]
     },
     "metadata": {},
     "output_type": "display_data"
    }
   ],
   "source": [
    "#correlation bar chart\n",
    "df.corr()['ordered'].plot(kind='bar',figsize=(12,5),color=\"palevioletred\")"
   ]
  },
  {
   "cell_type": "code",
   "execution_count": 7,
   "metadata": {
    "scrolled": true
   },
   "outputs": [
    {
     "data": {
      "text/plain": [
       "Text(0, 0.5, 'Count')"
      ]
     },
     "execution_count": 7,
     "metadata": {},
     "output_type": "execute_result"
    },
    {
     "data": {
      "image/png": "[encoded data removed]",
      "text/plain": [
       "<Figure size 432x288 with 1 Axes>"
      ]
     },
     "metadata": {},
     "output_type": "display_data"
    }
   ],
   "source": [
    "#ordered value counts\n",
    "df.ordered.value_counts().plot(kind='bar')\n",
    "plt.title(\"Ordered Count\")\n",
    "plt.xlabel(\"Ordered\")\n",
    "plt.ylabel(\"Count\")"
   ]
  },
  {
   "cell_type": "markdown",
   "metadata": {},
   "source": [
    "## Build Model"
   ]
  },
  {
   "cell_type": "code",
   "execution_count": 8,
   "metadata": {},
   "outputs": [],
   "source": [
    "#train test split\n",
    "from sklearn.model_selection import train_test_split\n",
    "\n",
    "features = df.drop('ordered',axis=1)\n",
    "target = df.ordered\n",
    "\n",
    "X_train, X_test, y_train, y_test = train_test_split(features,target, test_size = 0.2)"
   ]
  },
  {
   "cell_type": "code",
   "execution_count": 9,
   "metadata": {},
   "outputs": [],
   "source": [
    "#cross validation\n",
    "from sklearn.model_selection import cross_val_score\n",
    "#set kfold=5\n",
    "from sklearn.model_selection import StratifiedKFold\n",
    "skfold = StratifiedKFold(n_splits=5)"
   ]
  },
  {
   "cell_type": "code",
   "execution_count": 10,
   "metadata": {},
   "outputs": [
    {
     "name": "stdout",
     "output_type": "stream",
     "text": [
      "CV Logistic Regression\n",
      "0.9974893733930497\n"
     ]
    }
   ],
   "source": [
    "#CV logistic regression\n",
    "from sklearn.linear_model import LogisticRegression\n",
    "print(\"CV Logistic Regression\")\n",
    "print(np.mean(cross_val_score(LogisticRegression(tol=0.1),X_train,y_train,scoring='roc_auc',cv=skfold)))"
   ]
  },
  {
   "cell_type": "code",
   "execution_count": 11,
   "metadata": {},
   "outputs": [
    {
     "name": "stdout",
     "output_type": "stream",
     "text": [
      "CV Random Forest\n",
      "0.995719288775908\n"
     ]
    }
   ],
   "source": [
    "#CV random forest\n",
    "from sklearn.ensemble import RandomForestClassifier\n",
    "print(\"CV Random Forest\")\n",
    "print(np.mean(cross_val_score(RandomForestClassifier(),X_train,y_train,scoring='roc_auc',cv=skfold)))"
   ]
  },
  {
   "cell_type": "code",
   "execution_count": 12,
   "metadata": {},
   "outputs": [
    {
     "name": "stdout",
     "output_type": "stream",
     "text": [
      "CV SGD\n",
      "0.9972948876592749\n"
     ]
    }
   ],
   "source": [
    "#CV SGD\n",
    "from sklearn.linear_model import SGDClassifier\n",
    "print(\"CV SGD\")\n",
    "print(np.mean(cross_val_score(SGDClassifier(),X_train,y_train,scoring='roc_auc',cv=skfold)))"
   ]
  },
  {
   "cell_type": "code",
   "execution_count": 13,
   "metadata": {},
   "outputs": [
    {
     "name": "stdout",
     "output_type": "stream",
     "text": [
      "CV Decision Tree\n",
      "0.9861538655060199\n"
     ]
    }
   ],
   "source": [
    "#CV decision tree\n",
    "from sklearn.tree import DecisionTreeClassifier\n",
    "print(\"CV Decision Tree\")\n",
    "print(np.mean(cross_val_score(DecisionTreeClassifier(),X_train,y_train,scoring='roc_auc',cv=skfold)))"
   ]
  },
  {
   "cell_type": "code",
   "execution_count": 14,
   "metadata": {},
   "outputs": [],
   "source": [
    "#logistic regression - base model\n",
    "clf_1 = LogisticRegression().fit(X_train,y_train)\n",
    "y_pred_1 = clf_1.predict(X_test)"
   ]
  },
  {
   "cell_type": "code",
   "execution_count": 15,
   "metadata": {},
   "outputs": [
    {
     "name": "stdout",
     "output_type": "stream",
     "text": [
      "Logistic Regression - base model\n"
     ]
    },
    {
     "data": {
      "text/html": [
       "<div>\n",
       "<style scoped>\n",
       "    .dataframe tbody tr th:only-of-type {\n",
       "        vertical-align: middle;\n",
       "    }\n",
       "\n",
       "    .dataframe tbody tr th {\n",
       "        vertical-align: top;\n",
       "    }\n",
       "\n",
       "    .dataframe thead th {\n",
       "        text-align: right;\n",
       "    }\n",
       "</style>\n",
       "<table border=\"1\" class=\"dataframe\">\n",
       "  <thead>\n",
       "    <tr style=\"text-align: right;\">\n",
       "      <th>PRED</th>\n",
       "      <th>0</th>\n",
       "      <th>1</th>\n",
       "    </tr>\n",
       "    <tr>\n",
       "      <th>ACTUAL</th>\n",
       "      <th></th>\n",
       "      <th></th>\n",
       "    </tr>\n",
       "  </thead>\n",
       "  <tbody>\n",
       "    <tr>\n",
       "      <th>0</th>\n",
       "      <td>16652</td>\n",
       "      <td>854</td>\n",
       "    </tr>\n",
       "    <tr>\n",
       "      <th>1</th>\n",
       "      <td>719</td>\n",
       "      <td>26</td>\n",
       "    </tr>\n",
       "  </tbody>\n",
       "</table>\n",
       "</div>"
      ],
      "text/plain": [
       "PRED        0    1\n",
       "ACTUAL            \n",
       "0       16652  854\n",
       "1         719   26"
      ]
     },
     "execution_count": 15,
     "metadata": {},
     "output_type": "execute_result"
    }
   ],
   "source": [
    "#evaluate predictions on base model\n",
    "print(\"Logistic Regression - base model\")\n",
    "pd.crosstab(y_test,pd.Series(y_pred_1),rownames=['ACTUAL'],colnames=['PRED'])"
   ]
  },
  {
   "cell_type": "code",
   "execution_count": 16,
   "metadata": {
    "scrolled": true
   },
   "outputs": [
    {
     "name": "stdout",
     "output_type": "stream",
     "text": [
      "Logistic Regression - base model\n",
      "Precision: 0.8680426716141002\n",
      "Recall: 0.985\n"
     ]
    }
   ],
   "source": [
    "from sklearn.metrics import precision_score, recall_score\n",
    "\n",
    "#precision and recall\n",
    "print(\"Logistic Regression - base model\")\n",
    "print(\"Precision:\", precision_score(y_test, y_pred_1) )\n",
    "print(\"Recall:\", recall_score(y_test, y_pred_1) )"
   ]
  },
  {
   "cell_type": "code",
   "execution_count": 17,
   "metadata": {
    "scrolled": true
   },
   "outputs": [
    {
     "data": {
      "text/plain": [
       "0    436308\n",
       "1     19093\n",
       "Name: ordered, dtype: int64"
      ]
     },
     "execution_count": 17,
     "metadata": {},
     "output_type": "execute_result"
    }
   ],
   "source": [
    "#target value counts\n",
    "df.ordered.value_counts()"
   ]
  },
  {
   "cell_type": "code",
   "execution_count": 18,
   "metadata": {},
   "outputs": [
    {
     "data": {
      "text/plain": [
       "1    349027\n",
       "0    349027\n",
       "Name: ordered, dtype: int64"
      ]
     },
     "execution_count": 18,
     "metadata": {},
     "output_type": "execute_result"
    }
   ],
   "source": [
    "#upsampling to address imbalanced dataset\n",
    "from sklearn.utils import resample\n",
    "\n",
    "#separate majority and minority classes\n",
    "df_train = pd.concat([X_train, y_train],axis=1)\n",
    "\n",
    "df_majority = df_train[df_train.ordered==0]\n",
    "df_minority = df_train[df_train.ordered==1]\n",
    " \n",
    "#upsample minority class\n",
    "df_minority_upsampled = resample(df_minority, \n",
    "                                 replace=True,     # sample with replacement\n",
    "                                 n_samples=df_train.ordered.value_counts()[0],    # to match majority class\n",
    "                                 random_state=123) # reproducible results\n",
    " \n",
    "#combine majority class with upsampled minority class\n",
    "df_upsampled = pd.concat([df_majority, df_minority_upsampled])\n",
    " \n",
    "#show new class counts\n",
    "df_upsampled.ordered.value_counts()"
   ]
  },
  {
   "cell_type": "code",
   "execution_count": 19,
   "metadata": {
    "scrolled": true
   },
   "outputs": [
    {
     "name": "stdout",
     "output_type": "stream",
     "text": [
      "Logistic Regression - Upsampled\n",
      "Precision: 0.9916903138610261\n",
      "Recall: 0.9922699390018537\n"
     ]
    }
   ],
   "source": [
    "#train model on upsampled dataset\n",
    "y_train_up = df_upsampled.ordered\n",
    "X_train_up = df_upsampled.drop('ordered', axis=1)\n",
    "\n",
    "#train model\n",
    "clf_2 = LogisticRegression().fit(X_train_up, y_train_up)\n",
    " \n",
    "#predict on training data\n",
    "y_pred_2 = clf_2.predict(X_train_up)\n",
    " \n",
    "#precision and recall\n",
    "print(\"Logistic Regression - Upsampled\")\n",
    "print(\"Precision:\", precision_score(y_train_up, y_pred_2) )\n",
    "print(\"Recall:\", recall_score(y_train_up, y_pred_2) )"
   ]
  },
  {
   "cell_type": "code",
   "execution_count": 20,
   "metadata": {},
   "outputs": [
    {
     "name": "stdout",
     "output_type": "stream",
     "text": [
      "Logistic Regression - Upsampled\n"
     ]
    },
    {
     "data": {
      "text/html": [
       "<div>\n",
       "<style scoped>\n",
       "    .dataframe tbody tr th:only-of-type {\n",
       "        vertical-align: middle;\n",
       "    }\n",
       "\n",
       "    .dataframe tbody tr th {\n",
       "        vertical-align: top;\n",
       "    }\n",
       "\n",
       "    .dataframe thead th {\n",
       "        text-align: right;\n",
       "    }\n",
       "</style>\n",
       "<table border=\"1\" class=\"dataframe\">\n",
       "  <thead>\n",
       "    <tr style=\"text-align: right;\">\n",
       "      <th>PRED</th>\n",
       "      <th>0</th>\n",
       "      <th>1</th>\n",
       "    </tr>\n",
       "    <tr>\n",
       "      <th>ACTUAL</th>\n",
       "      <th></th>\n",
       "      <th></th>\n",
       "    </tr>\n",
       "  </thead>\n",
       "  <tbody>\n",
       "    <tr>\n",
       "      <th>0</th>\n",
       "      <td>66501</td>\n",
       "      <td>20780</td>\n",
       "    </tr>\n",
       "    <tr>\n",
       "      <th>1</th>\n",
       "      <td>2871</td>\n",
       "      <td>929</td>\n",
       "    </tr>\n",
       "  </tbody>\n",
       "</table>\n",
       "</div>"
      ],
      "text/plain": [
       "PRED        0      1\n",
       "ACTUAL              \n",
       "0       66501  20780\n",
       "1        2871    929"
      ]
     },
     "execution_count": 20,
     "metadata": {},
     "output_type": "execute_result"
    }
   ],
   "source": [
    "#evaluate predictions\n",
    "print(\"Logistic Regression - Upsampled\")\n",
    "pd.crosstab(y_test,pd.Series(y_pred_2),rownames=['ACTUAL'],colnames=['PRED'])"
   ]
  },
  {
   "cell_type": "code",
   "execution_count": 21,
   "metadata": {},
   "outputs": [
    {
     "name": "stdout",
     "output_type": "stream",
     "text": [
      "Logistic Regression - Upsampled\n",
      "Precision: 0.9916903138610261\n",
      "Recall: 0.9922699390018537\n"
     ]
    }
   ],
   "source": [
    "#precision and recall\n",
    "print(\"Logistic Regression - Upsampled\")\n",
    "print(\"Precision:\", precision_score(y_train_up, y_pred_2) )\n",
    "print(\"Recall:\", recall_score(y_train_up, y_pred_2) )"
   ]
  },
  {
   "cell_type": "code",
   "execution_count": 22,
   "metadata": {},
   "outputs": [
    {
     "name": "stdout",
     "output_type": "stream",
     "text": [
      "Logistic Regression - Upsampled\n",
      "AUC = 0.997418447018739\n"
     ]
    },
    {
     "data": {
      "image/png": "[encoded data removed]",
      "text/plain": [
       "<Figure size 432x288 with 1 Axes>"
      ]
     },
     "metadata": {},
     "output_type": "display_data"
    }
   ],
   "source": [
    "from sklearn import metrics\n",
    "from sklearn.metrics import roc_curve\n",
    "\n",
    "#predict class probabilities\n",
    "y_prob_2 = clf_2.predict_proba(X_train_up)\n",
    "#keep only the positive class\n",
    "y_prob_2 = [p[1] for p in y_prob_2]\n",
    "\n",
    "#plot ROC\n",
    "fpr, tpr, _ = roc_curve(np.array(y_train_up), y_prob_2)\n",
    "auc = metrics.auc(fpr,tpr)\n",
    "\n",
    "plt.title(\"ROC Curve\")\n",
    "sns.lineplot(fpr,tpr,color='#0077bc')\n",
    "sns.lineplot([0,1],[0,1], color= '#d15555')\n",
    "print(\"Logistic Regression - Upsampled\")\n",
    "print('AUC =',auc)"
   ]
  },
  {
   "cell_type": "code",
   "execution_count": 23,
   "metadata": {},
   "outputs": [
    {
     "name": "stdout",
     "output_type": "stream",
     "text": [
      "        True  Prediction  No Purchase Probability\n",
      "404540     0           0                 0.000001\n",
      "354693     0           0                 0.000004\n",
      "299787     0           0                 0.000004\n",
      "199166     1           1                 0.994985\n",
      "24396      1           1                 0.994835\n",
      "228650     0           0                 0.000011\n",
      "90093      1           1                 0.998199\n",
      "56302      0           0                 0.000006\n",
      "28093      1           1                 0.991411\n",
      "76081      0           0                 0.000004\n",
      "278577     0           0                 0.000004\n",
      "133222     1           1                 0.997620\n",
      "398300     1           1                 0.995293\n",
      "4720       1           1                 0.994835\n",
      "121715     0           0                 0.000002\n",
      "32338      1           1                 0.996214\n",
      "208614     0           0                 0.000005\n",
      "4478       1           1                 0.997578\n",
      "277503     1           1                 0.990892\n",
      "258907     0           0                 0.000034\n"
     ]
    }
   ],
   "source": [
    "#compare true vs predicted and show probability prediction\n",
    "compare=pd.DataFrame({\"True\":(y_train_up),\"Prediction\":(y_pred_2),\"No Purchase Probability\":(y_prob_2)})\n",
    "print(compare.sample(20))"
   ]
  },
  {
   "cell_type": "code",
   "execution_count": 24,
   "metadata": {},
   "outputs": [],
   "source": [
    "#load test dataset\n",
    "test_df=pd.read_csv('testing_sample.csv')"
   ]
  },
  {
   "cell_type": "code",
   "execution_count": 25,
   "metadata": {},
   "outputs": [
    {
     "data": {
      "text/plain": [
       "(151655, 25)"
      ]
     },
     "execution_count": 25,
     "metadata": {},
     "output_type": "execute_result"
    }
   ],
   "source": [
    "#test shape\n",
    "test_df.shape"
   ]
  },
  {
   "cell_type": "code",
   "execution_count": 26,
   "metadata": {},
   "outputs": [],
   "source": [
    "#1 random sample treatment and control (50/50) split\n",
    "#2 conversion rate in the control group (did order/total in the control)\n",
    "#3 apply model to tx group and predict \n",
    "    #include true value (0 or 1)\n",
    "#4 create decile column\n",
    "#5 how many converted in each decile\n",
    "    #count how many 1's there are for each decile divide by total\n",
    "#6 lift over control= (tx conversion rate-control conversion rate)/control conversion rate\n",
    "    #should get smaller down the list"
   ]
  },
  {
   "cell_type": "code",
   "execution_count": 27,
   "metadata": {},
   "outputs": [],
   "source": [
    "#split dataset into treatment and control (50/50)\n",
    "control, treatment = train_test_split(test_df, test_size = 0.5, shuffle=True)"
   ]
  },
  {
   "cell_type": "code",
   "execution_count": 28,
   "metadata": {},
   "outputs": [
    {
     "data": {
      "text/plain": [
       "75827.5"
      ]
     },
     "execution_count": 28,
     "metadata": {},
     "output_type": "execute_result"
    }
   ],
   "source": [
    "#total number of rows in half of test data\n",
    "test_df.shape[0]/2"
   ]
  },
  {
   "cell_type": "code",
   "execution_count": 29,
   "metadata": {},
   "outputs": [
    {
     "data": {
      "text/plain": [
       "(75827, 25)"
      ]
     },
     "execution_count": 29,
     "metadata": {},
     "output_type": "execute_result"
    }
   ],
   "source": [
    "#check control shape \n",
    "control.shape"
   ]
  },
  {
   "cell_type": "code",
   "execution_count": 30,
   "metadata": {},
   "outputs": [
    {
     "data": {
      "text/plain": [
       "(75828, 25)"
      ]
     },
     "execution_count": 30,
     "metadata": {},
     "output_type": "execute_result"
    }
   ],
   "source": [
    "#check treatment shape\n",
    "treatment.shape"
   ]
  },
  {
   "cell_type": "code",
   "execution_count": 31,
   "metadata": {
    "scrolled": true
   },
   "outputs": [
    {
     "data": {
      "text/plain": [
       "0    74697\n",
       "1     1130\n",
       "Name: ordered, dtype: int64"
      ]
     },
     "execution_count": 31,
     "metadata": {},
     "output_type": "execute_result"
    }
   ],
   "source": [
    "#value count or target in control group\n",
    "control.ordered.value_counts()"
   ]
  },
  {
   "cell_type": "code",
   "execution_count": 32,
   "metadata": {},
   "outputs": [
    {
     "data": {
      "text/plain": [
       "0    74757\n",
       "1     1071\n",
       "Name: ordered, dtype: int64"
      ]
     },
     "execution_count": 32,
     "metadata": {},
     "output_type": "execute_result"
    }
   ],
   "source": [
    "#value count or target in treatment group\n",
    "treatment.ordered.value_counts()"
   ]
  },
  {
   "cell_type": "code",
   "execution_count": 33,
   "metadata": {},
   "outputs": [
    {
     "name": "stdout",
     "output_type": "stream",
     "text": [
      "Control Conversion Rate: 0.014902343492423543\n"
     ]
    }
   ],
   "source": [
    "#conversion rate in the control group (ordered/total in the control)\n",
    "control_conversion_rate=control.ordered.value_counts()[1]/control.shape[0]\n",
    "print(\"Control Conversion Rate:\",control_conversion_rate)"
   ]
  },
  {
   "cell_type": "code",
   "execution_count": 34,
   "metadata": {},
   "outputs": [],
   "source": [
    "#drop target column in treatment group\n",
    "treatment_drop_ordered=treatment.drop('ordered',axis=1)"
   ]
  },
  {
   "cell_type": "code",
   "execution_count": 35,
   "metadata": {},
   "outputs": [],
   "source": [
    "#drop 'USERID' column\n",
    "treatment_drop_ordered.drop('UserID',axis=1,inplace=True)"
   ]
  },
  {
   "cell_type": "code",
   "execution_count": 36,
   "metadata": {},
   "outputs": [],
   "source": [
    "#apply trained model to tx group and predict probability\n",
    "treatment_prob=clf_2.predict_proba(treatment_drop_ordered)\n",
    "treatment_prob = [p[1] for p in treatment_prob]"
   ]
  },
  {
   "cell_type": "code",
   "execution_count": 37,
   "metadata": {},
   "outputs": [],
   "source": [
    "#create new dataframe showing actual values (0 or 1) and treatment propensity probability\n",
    "propensity=pd.DataFrame({\"Actual\":treatment.ordered, \"Tx No Purchase Probability\":treatment_prob}).sort_values(by=\"Tx No Purchase Probability\",ascending=False)"
   ]
  },
  {
   "cell_type": "code",
   "execution_count": 38,
   "metadata": {},
   "outputs": [
    {
     "data": {
      "text/html": [
       "<div>\n",
       "<style scoped>\n",
       "    .dataframe tbody tr th:only-of-type {\n",
       "        vertical-align: middle;\n",
       "    }\n",
       "\n",
       "    .dataframe tbody tr th {\n",
       "        vertical-align: top;\n",
       "    }\n",
       "\n",
       "    .dataframe thead th {\n",
       "        text-align: right;\n",
       "    }\n",
       "</style>\n",
       "<table border=\"1\" class=\"dataframe\">\n",
       "  <thead>\n",
       "    <tr style=\"text-align: right;\">\n",
       "      <th></th>\n",
       "      <th>Actual</th>\n",
       "      <th>Tx No Purchase Probability</th>\n",
       "    </tr>\n",
       "  </thead>\n",
       "  <tbody>\n",
       "    <tr>\n",
       "      <th>61686</th>\n",
       "      <td>1</td>\n",
       "      <td>0.999825</td>\n",
       "    </tr>\n",
       "    <tr>\n",
       "      <th>9807</th>\n",
       "      <td>0</td>\n",
       "      <td>0.999227</td>\n",
       "    </tr>\n",
       "    <tr>\n",
       "      <th>32662</th>\n",
       "      <td>0</td>\n",
       "      <td>0.999115</td>\n",
       "    </tr>\n",
       "    <tr>\n",
       "      <th>52271</th>\n",
       "      <td>0</td>\n",
       "      <td>0.998997</td>\n",
       "    </tr>\n",
       "    <tr>\n",
       "      <th>60361</th>\n",
       "      <td>0</td>\n",
       "      <td>0.998882</td>\n",
       "    </tr>\n",
       "    <tr>\n",
       "      <th>101194</th>\n",
       "      <td>0</td>\n",
       "      <td>0.998858</td>\n",
       "    </tr>\n",
       "    <tr>\n",
       "      <th>118877</th>\n",
       "      <td>0</td>\n",
       "      <td>0.998858</td>\n",
       "    </tr>\n",
       "    <tr>\n",
       "      <th>52876</th>\n",
       "      <td>0</td>\n",
       "      <td>0.998770</td>\n",
       "    </tr>\n",
       "    <tr>\n",
       "      <th>35357</th>\n",
       "      <td>0</td>\n",
       "      <td>0.998770</td>\n",
       "    </tr>\n",
       "    <tr>\n",
       "      <th>102010</th>\n",
       "      <td>0</td>\n",
       "      <td>0.998611</td>\n",
       "    </tr>\n",
       "  </tbody>\n",
       "</table>\n",
       "</div>"
      ],
      "text/plain": [
       "        Actual  Tx No Purchase Probability\n",
       "61686        1                    0.999825\n",
       "9807         0                    0.999227\n",
       "32662        0                    0.999115\n",
       "52271        0                    0.998997\n",
       "60361        0                    0.998882\n",
       "101194       0                    0.998858\n",
       "118877       0                    0.998858\n",
       "52876        0                    0.998770\n",
       "35357        0                    0.998770\n",
       "102010       0                    0.998611"
      ]
     },
     "execution_count": 38,
     "metadata": {},
     "output_type": "execute_result"
    }
   ],
   "source": [
    "propensity.head(10)"
   ]
  },
  {
   "cell_type": "code",
   "execution_count": 39,
   "metadata": {
    "scrolled": false
   },
   "outputs": [
    {
     "data": {
      "text/html": [
       "<div>\n",
       "<style scoped>\n",
       "    .dataframe tbody tr th:only-of-type {\n",
       "        vertical-align: middle;\n",
       "    }\n",
       "\n",
       "    .dataframe tbody tr th {\n",
       "        vertical-align: top;\n",
       "    }\n",
       "\n",
       "    .dataframe thead th {\n",
       "        text-align: right;\n",
       "    }\n",
       "</style>\n",
       "<table border=\"1\" class=\"dataframe\">\n",
       "  <thead>\n",
       "    <tr style=\"text-align: right;\">\n",
       "      <th></th>\n",
       "      <th>Actual</th>\n",
       "      <th>Tx No Purchase Probability</th>\n",
       "      <th>Decile</th>\n",
       "    </tr>\n",
       "  </thead>\n",
       "  <tbody>\n",
       "    <tr>\n",
       "      <th>61686</th>\n",
       "      <td>1</td>\n",
       "      <td>9.998252e-01</td>\n",
       "      <td>0</td>\n",
       "    </tr>\n",
       "    <tr>\n",
       "      <th>9807</th>\n",
       "      <td>0</td>\n",
       "      <td>9.992270e-01</td>\n",
       "      <td>0</td>\n",
       "    </tr>\n",
       "    <tr>\n",
       "      <th>32662</th>\n",
       "      <td>0</td>\n",
       "      <td>9.991150e-01</td>\n",
       "      <td>0</td>\n",
       "    </tr>\n",
       "    <tr>\n",
       "      <th>52271</th>\n",
       "      <td>0</td>\n",
       "      <td>9.989973e-01</td>\n",
       "      <td>0</td>\n",
       "    </tr>\n",
       "    <tr>\n",
       "      <th>60361</th>\n",
       "      <td>0</td>\n",
       "      <td>9.988822e-01</td>\n",
       "      <td>0</td>\n",
       "    </tr>\n",
       "    <tr>\n",
       "      <th>...</th>\n",
       "      <td>...</td>\n",
       "      <td>...</td>\n",
       "      <td>...</td>\n",
       "    </tr>\n",
       "    <tr>\n",
       "      <th>63030</th>\n",
       "      <td>0</td>\n",
       "      <td>6.275536e-08</td>\n",
       "      <td>9</td>\n",
       "    </tr>\n",
       "    <tr>\n",
       "      <th>96617</th>\n",
       "      <td>0</td>\n",
       "      <td>5.548339e-08</td>\n",
       "      <td>9</td>\n",
       "    </tr>\n",
       "    <tr>\n",
       "      <th>115638</th>\n",
       "      <td>0</td>\n",
       "      <td>5.488765e-08</td>\n",
       "      <td>9</td>\n",
       "    </tr>\n",
       "    <tr>\n",
       "      <th>91057</th>\n",
       "      <td>0</td>\n",
       "      <td>4.648919e-08</td>\n",
       "      <td>9</td>\n",
       "    </tr>\n",
       "    <tr>\n",
       "      <th>30365</th>\n",
       "      <td>0</td>\n",
       "      <td>3.933336e-08</td>\n",
       "      <td>9</td>\n",
       "    </tr>\n",
       "  </tbody>\n",
       "</table>\n",
       "<p>75828 rows × 3 columns</p>\n",
       "</div>"
      ],
      "text/plain": [
       "        Actual  Tx No Purchase Probability  Decile\n",
       "61686        1                9.998252e-01       0\n",
       "9807         0                9.992270e-01       0\n",
       "32662        0                9.991150e-01       0\n",
       "52271        0                9.989973e-01       0\n",
       "60361        0                9.988822e-01       0\n",
       "...        ...                         ...     ...\n",
       "63030        0                6.275536e-08       9\n",
       "96617        0                5.548339e-08       9\n",
       "115638       0                5.488765e-08       9\n",
       "91057        0                4.648919e-08       9\n",
       "30365        0                3.933336e-08       9\n",
       "\n",
       "[75828 rows x 3 columns]"
      ]
     },
     "execution_count": 39,
     "metadata": {},
     "output_type": "execute_result"
    }
   ],
   "source": [
    "#create decile column\n",
    "propensity['Decile'] = pd.qcut(propensity['Tx No Purchase Probability'].rank(method='first',ascending=False).values, 10).codes\n",
    "propensity.sort_values(by=\"Tx No Purchase Probability\", ascending=False)"
   ]
  },
  {
   "cell_type": "code",
   "execution_count": 40,
   "metadata": {
    "scrolled": true
   },
   "outputs": [
    {
     "data": {
      "text/plain": [
       "0    74757\n",
       "1     1071\n",
       "Name: ordered, dtype: int64"
      ]
     },
     "execution_count": 40,
     "metadata": {},
     "output_type": "execute_result"
    }
   ],
   "source": [
    "#value counts of ordered in treatment group\n",
    "treatment.ordered.value_counts()"
   ]
  },
  {
   "cell_type": "code",
   "execution_count": 41,
   "metadata": {},
   "outputs": [
    {
     "data": {
      "text/plain": [
       "0    74757\n",
       "1     1071\n",
       "Name: Actual, dtype: int64"
      ]
     },
     "execution_count": 41,
     "metadata": {},
     "output_type": "execute_result"
    }
   ],
   "source": [
    "#value counts of ordered in propensity data should match treatment group\n",
    "propensity.Actual.value_counts()"
   ]
  },
  {
   "cell_type": "code",
   "execution_count": 42,
   "metadata": {
    "scrolled": false
   },
   "outputs": [
    {
     "data": {
      "text/html": [
       "<div>\n",
       "<style scoped>\n",
       "    .dataframe tbody tr th:only-of-type {\n",
       "        vertical-align: middle;\n",
       "    }\n",
       "\n",
       "    .dataframe tbody tr th {\n",
       "        vertical-align: top;\n",
       "    }\n",
       "\n",
       "    .dataframe thead th {\n",
       "        text-align: right;\n",
       "    }\n",
       "</style>\n",
       "<table border=\"1\" class=\"dataframe\">\n",
       "  <thead>\n",
       "    <tr style=\"text-align: right;\">\n",
       "      <th>Actual</th>\n",
       "      <th>0</th>\n",
       "      <th>1</th>\n",
       "    </tr>\n",
       "    <tr>\n",
       "      <th>Decile</th>\n",
       "      <th></th>\n",
       "      <th></th>\n",
       "    </tr>\n",
       "  </thead>\n",
       "  <tbody>\n",
       "    <tr>\n",
       "      <th>0</th>\n",
       "      <td>7268</td>\n",
       "      <td>315</td>\n",
       "    </tr>\n",
       "    <tr>\n",
       "      <th>1</th>\n",
       "      <td>7478</td>\n",
       "      <td>105</td>\n",
       "    </tr>\n",
       "    <tr>\n",
       "      <th>2</th>\n",
       "      <td>7469</td>\n",
       "      <td>114</td>\n",
       "    </tr>\n",
       "    <tr>\n",
       "      <th>3</th>\n",
       "      <td>7522</td>\n",
       "      <td>60</td>\n",
       "    </tr>\n",
       "    <tr>\n",
       "      <th>4</th>\n",
       "      <td>7474</td>\n",
       "      <td>109</td>\n",
       "    </tr>\n",
       "    <tr>\n",
       "      <th>5</th>\n",
       "      <td>7496</td>\n",
       "      <td>87</td>\n",
       "    </tr>\n",
       "    <tr>\n",
       "      <th>6</th>\n",
       "      <td>7478</td>\n",
       "      <td>104</td>\n",
       "    </tr>\n",
       "    <tr>\n",
       "      <th>7</th>\n",
       "      <td>7514</td>\n",
       "      <td>69</td>\n",
       "    </tr>\n",
       "    <tr>\n",
       "      <th>8</th>\n",
       "      <td>7572</td>\n",
       "      <td>11</td>\n",
       "    </tr>\n",
       "    <tr>\n",
       "      <th>9</th>\n",
       "      <td>7486</td>\n",
       "      <td>97</td>\n",
       "    </tr>\n",
       "  </tbody>\n",
       "</table>\n",
       "</div>"
      ],
      "text/plain": [
       "Actual     0    1\n",
       "Decile           \n",
       "0       7268  315\n",
       "1       7478  105\n",
       "2       7469  114\n",
       "3       7522   60\n",
       "4       7474  109\n",
       "5       7496   87\n",
       "6       7478  104\n",
       "7       7514   69\n",
       "8       7572   11\n",
       "9       7486   97"
      ]
     },
     "execution_count": 42,
     "metadata": {},
     "output_type": "execute_result"
    }
   ],
   "source": [
    "#table showing Decile and True values\n",
    "table=propensity.groupby(['Decile','Actual']).size().unstack()\n",
    "table"
   ]
  },
  {
   "cell_type": "code",
   "execution_count": 43,
   "metadata": {
    "scrolled": true
   },
   "outputs": [
    {
     "data": {
      "text/plain": [
       "9    7583\n",
       "8    7583\n",
       "7    7583\n",
       "5    7583\n",
       "4    7583\n",
       "2    7583\n",
       "1    7583\n",
       "0    7583\n",
       "6    7582\n",
       "3    7582\n",
       "Name: Decile, dtype: int64"
      ]
     },
     "execution_count": 43,
     "metadata": {},
     "output_type": "execute_result"
    }
   ],
   "source": [
    "#total count in each decile\n",
    "propensity.Decile.value_counts()"
   ]
  },
  {
   "cell_type": "code",
   "execution_count": 44,
   "metadata": {
    "scrolled": true
   },
   "outputs": [
    {
     "data": {
      "text/html": [
       "<div>\n",
       "<style scoped>\n",
       "    .dataframe tbody tr th:only-of-type {\n",
       "        vertical-align: middle;\n",
       "    }\n",
       "\n",
       "    .dataframe tbody tr th {\n",
       "        vertical-align: top;\n",
       "    }\n",
       "\n",
       "    .dataframe thead th {\n",
       "        text-align: right;\n",
       "    }\n",
       "</style>\n",
       "<table border=\"1\" class=\"dataframe\">\n",
       "  <thead>\n",
       "    <tr style=\"text-align: right;\">\n",
       "      <th></th>\n",
       "      <th>Actual</th>\n",
       "      <th>Total</th>\n",
       "      <th>Tx Conversion Rate</th>\n",
       "    </tr>\n",
       "  </thead>\n",
       "  <tbody>\n",
       "    <tr>\n",
       "      <th>0</th>\n",
       "      <td>315</td>\n",
       "      <td>7583</td>\n",
       "      <td>0.041540</td>\n",
       "    </tr>\n",
       "    <tr>\n",
       "      <th>1</th>\n",
       "      <td>105</td>\n",
       "      <td>7583</td>\n",
       "      <td>0.013847</td>\n",
       "    </tr>\n",
       "    <tr>\n",
       "      <th>2</th>\n",
       "      <td>114</td>\n",
       "      <td>7583</td>\n",
       "      <td>0.015034</td>\n",
       "    </tr>\n",
       "    <tr>\n",
       "      <th>3</th>\n",
       "      <td>60</td>\n",
       "      <td>7582</td>\n",
       "      <td>0.007913</td>\n",
       "    </tr>\n",
       "    <tr>\n",
       "      <th>4</th>\n",
       "      <td>109</td>\n",
       "      <td>7583</td>\n",
       "      <td>0.014374</td>\n",
       "    </tr>\n",
       "    <tr>\n",
       "      <th>5</th>\n",
       "      <td>87</td>\n",
       "      <td>7583</td>\n",
       "      <td>0.011473</td>\n",
       "    </tr>\n",
       "    <tr>\n",
       "      <th>6</th>\n",
       "      <td>104</td>\n",
       "      <td>7582</td>\n",
       "      <td>0.013717</td>\n",
       "    </tr>\n",
       "    <tr>\n",
       "      <th>7</th>\n",
       "      <td>69</td>\n",
       "      <td>7583</td>\n",
       "      <td>0.009099</td>\n",
       "    </tr>\n",
       "    <tr>\n",
       "      <th>8</th>\n",
       "      <td>11</td>\n",
       "      <td>7583</td>\n",
       "      <td>0.001451</td>\n",
       "    </tr>\n",
       "    <tr>\n",
       "      <th>9</th>\n",
       "      <td>97</td>\n",
       "      <td>7583</td>\n",
       "      <td>0.012792</td>\n",
       "    </tr>\n",
       "  </tbody>\n",
       "</table>\n",
       "</div>"
      ],
      "text/plain": [
       "   Actual  Total  Tx Conversion Rate\n",
       "0     315   7583            0.041540\n",
       "1     105   7583            0.013847\n",
       "2     114   7583            0.015034\n",
       "3      60   7582            0.007913\n",
       "4     109   7583            0.014374\n",
       "5      87   7583            0.011473\n",
       "6     104   7582            0.013717\n",
       "7      69   7583            0.009099\n",
       "8      11   7583            0.001451\n",
       "9      97   7583            0.012792"
      ]
     },
     "execution_count": 44,
     "metadata": {},
     "output_type": "execute_result"
    }
   ],
   "source": [
    "#how many converted in each decile\n",
    "total=propensity.Decile.value_counts()\n",
    "tx_conversion_rate=pd.DataFrame({\"Actual\":table[1],\"Total\":total,\"Tx Conversion Rate\":table[1]/total})\n",
    "tx_conversion_rate"
   ]
  },
  {
   "cell_type": "code",
   "execution_count": 45,
   "metadata": {
    "scrolled": true
   },
   "outputs": [
    {
     "data": {
      "text/html": [
       "<div>\n",
       "<style scoped>\n",
       "    .dataframe tbody tr th:only-of-type {\n",
       "        vertical-align: middle;\n",
       "    }\n",
       "\n",
       "    .dataframe tbody tr th {\n",
       "        vertical-align: top;\n",
       "    }\n",
       "\n",
       "    .dataframe thead th {\n",
       "        text-align: right;\n",
       "    }\n",
       "</style>\n",
       "<table border=\"1\" class=\"dataframe\">\n",
       "  <thead>\n",
       "    <tr style=\"text-align: right;\">\n",
       "      <th></th>\n",
       "      <th>Actual</th>\n",
       "      <th>Total</th>\n",
       "      <th>Tx Conversion Rate</th>\n",
       "    </tr>\n",
       "    <tr>\n",
       "      <th>Decile</th>\n",
       "      <th></th>\n",
       "      <th></th>\n",
       "      <th></th>\n",
       "    </tr>\n",
       "  </thead>\n",
       "  <tbody>\n",
       "    <tr>\n",
       "      <th>0</th>\n",
       "      <td>315</td>\n",
       "      <td>7583</td>\n",
       "      <td>0.041540</td>\n",
       "    </tr>\n",
       "    <tr>\n",
       "      <th>1</th>\n",
       "      <td>105</td>\n",
       "      <td>7583</td>\n",
       "      <td>0.013847</td>\n",
       "    </tr>\n",
       "    <tr>\n",
       "      <th>2</th>\n",
       "      <td>114</td>\n",
       "      <td>7583</td>\n",
       "      <td>0.015034</td>\n",
       "    </tr>\n",
       "    <tr>\n",
       "      <th>3</th>\n",
       "      <td>60</td>\n",
       "      <td>7582</td>\n",
       "      <td>0.007913</td>\n",
       "    </tr>\n",
       "    <tr>\n",
       "      <th>4</th>\n",
       "      <td>109</td>\n",
       "      <td>7583</td>\n",
       "      <td>0.014374</td>\n",
       "    </tr>\n",
       "    <tr>\n",
       "      <th>5</th>\n",
       "      <td>87</td>\n",
       "      <td>7583</td>\n",
       "      <td>0.011473</td>\n",
       "    </tr>\n",
       "    <tr>\n",
       "      <th>6</th>\n",
       "      <td>104</td>\n",
       "      <td>7582</td>\n",
       "      <td>0.013717</td>\n",
       "    </tr>\n",
       "    <tr>\n",
       "      <th>7</th>\n",
       "      <td>69</td>\n",
       "      <td>7583</td>\n",
       "      <td>0.009099</td>\n",
       "    </tr>\n",
       "    <tr>\n",
       "      <th>8</th>\n",
       "      <td>11</td>\n",
       "      <td>7583</td>\n",
       "      <td>0.001451</td>\n",
       "    </tr>\n",
       "    <tr>\n",
       "      <th>9</th>\n",
       "      <td>97</td>\n",
       "      <td>7583</td>\n",
       "      <td>0.012792</td>\n",
       "    </tr>\n",
       "  </tbody>\n",
       "</table>\n",
       "</div>"
      ],
      "text/plain": [
       "        Actual  Total  Tx Conversion Rate\n",
       "Decile                                   \n",
       "0          315   7583            0.041540\n",
       "1          105   7583            0.013847\n",
       "2          114   7583            0.015034\n",
       "3           60   7582            0.007913\n",
       "4          109   7583            0.014374\n",
       "5           87   7583            0.011473\n",
       "6          104   7582            0.013717\n",
       "7           69   7583            0.009099\n",
       "8           11   7583            0.001451\n",
       "9           97   7583            0.012792"
      ]
     },
     "execution_count": 45,
     "metadata": {},
     "output_type": "execute_result"
    }
   ],
   "source": [
    "#name index as Decile\n",
    "tx_conversion_rate.index.name = 'Decile'\n",
    "tx_conversion_rate"
   ]
  },
  {
   "cell_type": "code",
   "execution_count": 46,
   "metadata": {},
   "outputs": [
    {
     "data": {
      "text/plain": [
       "0.04154028748516418"
      ]
     },
     "execution_count": 46,
     "metadata": {},
     "output_type": "execute_result"
    }
   ],
   "source": [
    "#confirm conversion for first decile group is correct\n",
    "tx_conversion_rate.Actual[0]/tx_conversion_rate.Total[0]"
   ]
  },
  {
   "cell_type": "code",
   "execution_count": 47,
   "metadata": {},
   "outputs": [
    {
     "data": {
      "text/plain": [
       "Decile\n",
       "0    1.787500\n",
       "1   -0.070833\n",
       "2    0.008810\n",
       "3   -0.468978\n",
       "4   -0.035436\n",
       "5   -0.230119\n",
       "6   -0.079561\n",
       "7   -0.389405\n",
       "8   -0.902659\n",
       "9   -0.141627\n",
       "Name: Tx Conversion Rate, dtype: float64"
      ]
     },
     "execution_count": 47,
     "metadata": {},
     "output_type": "execute_result"
    }
   ],
   "source": [
    "#lift over control= (treatment conversion rate - control conversion rate)/control conversion rate\n",
    "lift=(tx_conversion_rate['Tx Conversion Rate']-control_conversion_rate)/control_conversion_rate\n",
    "lift"
   ]
  },
  {
   "cell_type": "code",
   "execution_count": 48,
   "metadata": {},
   "outputs": [
    {
     "data": {
      "text/html": [
       "<div>\n",
       "<style scoped>\n",
       "    .dataframe tbody tr th:only-of-type {\n",
       "        vertical-align: middle;\n",
       "    }\n",
       "\n",
       "    .dataframe tbody tr th {\n",
       "        vertical-align: top;\n",
       "    }\n",
       "\n",
       "    .dataframe thead th {\n",
       "        text-align: right;\n",
       "    }\n",
       "</style>\n",
       "<table border=\"1\" class=\"dataframe\">\n",
       "  <thead>\n",
       "    <tr style=\"text-align: right;\">\n",
       "      <th></th>\n",
       "      <th>Actual</th>\n",
       "      <th>Total</th>\n",
       "      <th>Tx Conversion Rate</th>\n",
       "      <th>Lift</th>\n",
       "    </tr>\n",
       "    <tr>\n",
       "      <th>Decile</th>\n",
       "      <th></th>\n",
       "      <th></th>\n",
       "      <th></th>\n",
       "      <th></th>\n",
       "    </tr>\n",
       "  </thead>\n",
       "  <tbody>\n",
       "    <tr>\n",
       "      <th>0</th>\n",
       "      <td>315</td>\n",
       "      <td>7583</td>\n",
       "      <td>0.041540</td>\n",
       "      <td>1.787500</td>\n",
       "    </tr>\n",
       "    <tr>\n",
       "      <th>1</th>\n",
       "      <td>105</td>\n",
       "      <td>7583</td>\n",
       "      <td>0.013847</td>\n",
       "      <td>-0.070833</td>\n",
       "    </tr>\n",
       "    <tr>\n",
       "      <th>2</th>\n",
       "      <td>114</td>\n",
       "      <td>7583</td>\n",
       "      <td>0.015034</td>\n",
       "      <td>0.008810</td>\n",
       "    </tr>\n",
       "    <tr>\n",
       "      <th>3</th>\n",
       "      <td>60</td>\n",
       "      <td>7582</td>\n",
       "      <td>0.007913</td>\n",
       "      <td>-0.468978</td>\n",
       "    </tr>\n",
       "    <tr>\n",
       "      <th>4</th>\n",
       "      <td>109</td>\n",
       "      <td>7583</td>\n",
       "      <td>0.014374</td>\n",
       "      <td>-0.035436</td>\n",
       "    </tr>\n",
       "    <tr>\n",
       "      <th>5</th>\n",
       "      <td>87</td>\n",
       "      <td>7583</td>\n",
       "      <td>0.011473</td>\n",
       "      <td>-0.230119</td>\n",
       "    </tr>\n",
       "    <tr>\n",
       "      <th>6</th>\n",
       "      <td>104</td>\n",
       "      <td>7582</td>\n",
       "      <td>0.013717</td>\n",
       "      <td>-0.079561</td>\n",
       "    </tr>\n",
       "    <tr>\n",
       "      <th>7</th>\n",
       "      <td>69</td>\n",
       "      <td>7583</td>\n",
       "      <td>0.009099</td>\n",
       "      <td>-0.389405</td>\n",
       "    </tr>\n",
       "    <tr>\n",
       "      <th>8</th>\n",
       "      <td>11</td>\n",
       "      <td>7583</td>\n",
       "      <td>0.001451</td>\n",
       "      <td>-0.902659</td>\n",
       "    </tr>\n",
       "    <tr>\n",
       "      <th>9</th>\n",
       "      <td>97</td>\n",
       "      <td>7583</td>\n",
       "      <td>0.012792</td>\n",
       "      <td>-0.141627</td>\n",
       "    </tr>\n",
       "  </tbody>\n",
       "</table>\n",
       "</div>"
      ],
      "text/plain": [
       "        Actual  Total  Tx Conversion Rate      Lift\n",
       "Decile                                             \n",
       "0          315   7583            0.041540  1.787500\n",
       "1          105   7583            0.013847 -0.070833\n",
       "2          114   7583            0.015034  0.008810\n",
       "3           60   7582            0.007913 -0.468978\n",
       "4          109   7583            0.014374 -0.035436\n",
       "5           87   7583            0.011473 -0.230119\n",
       "6          104   7582            0.013717 -0.079561\n",
       "7           69   7583            0.009099 -0.389405\n",
       "8           11   7583            0.001451 -0.902659\n",
       "9           97   7583            0.012792 -0.141627"
      ]
     },
     "execution_count": 48,
     "metadata": {},
     "output_type": "execute_result"
    }
   ],
   "source": [
    "#add lift column\n",
    "tx_conversion_rate['Lift'] = lift\n",
    "tx_conversion_rate"
   ]
  },
  {
   "cell_type": "code",
   "execution_count": 49,
   "metadata": {},
   "outputs": [],
   "source": [
    "#apply control conversion rate to people in deciles with higher conversion rate than baseline\n",
    "tx_conversion_rate.loc[tx_conversion_rate['Lift'] >= control_conversion_rate, 'Control Conversion Rate'] = control_conversion_rate \n",
    "tx_conversion_rate.loc[tx_conversion_rate['Lift'] < control_conversion_rate, 'Control Conversion Rate'] = \"-\" "
   ]
  },
  {
   "cell_type": "code",
   "execution_count": 50,
   "metadata": {
    "scrolled": true
   },
   "outputs": [
    {
     "data": {
      "text/html": [
       "<div>\n",
       "<style scoped>\n",
       "    .dataframe tbody tr th:only-of-type {\n",
       "        vertical-align: middle;\n",
       "    }\n",
       "\n",
       "    .dataframe tbody tr th {\n",
       "        vertical-align: top;\n",
       "    }\n",
       "\n",
       "    .dataframe thead th {\n",
       "        text-align: right;\n",
       "    }\n",
       "</style>\n",
       "<table border=\"1\" class=\"dataframe\">\n",
       "  <thead>\n",
       "    <tr style=\"text-align: right;\">\n",
       "      <th></th>\n",
       "      <th>Actual</th>\n",
       "      <th>Total</th>\n",
       "      <th>Tx Conversion Rate</th>\n",
       "      <th>Lift</th>\n",
       "      <th>Control Conversion Rate</th>\n",
       "    </tr>\n",
       "    <tr>\n",
       "      <th>Decile</th>\n",
       "      <th></th>\n",
       "      <th></th>\n",
       "      <th></th>\n",
       "      <th></th>\n",
       "      <th></th>\n",
       "    </tr>\n",
       "  </thead>\n",
       "  <tbody>\n",
       "    <tr>\n",
       "      <th>0</th>\n",
       "      <td>315</td>\n",
       "      <td>7583</td>\n",
       "      <td>0.041540</td>\n",
       "      <td>1.787500</td>\n",
       "      <td>0.0149023</td>\n",
       "    </tr>\n",
       "    <tr>\n",
       "      <th>1</th>\n",
       "      <td>105</td>\n",
       "      <td>7583</td>\n",
       "      <td>0.013847</td>\n",
       "      <td>-0.070833</td>\n",
       "      <td>-</td>\n",
       "    </tr>\n",
       "    <tr>\n",
       "      <th>2</th>\n",
       "      <td>114</td>\n",
       "      <td>7583</td>\n",
       "      <td>0.015034</td>\n",
       "      <td>0.008810</td>\n",
       "      <td>-</td>\n",
       "    </tr>\n",
       "    <tr>\n",
       "      <th>3</th>\n",
       "      <td>60</td>\n",
       "      <td>7582</td>\n",
       "      <td>0.007913</td>\n",
       "      <td>-0.468978</td>\n",
       "      <td>-</td>\n",
       "    </tr>\n",
       "    <tr>\n",
       "      <th>4</th>\n",
       "      <td>109</td>\n",
       "      <td>7583</td>\n",
       "      <td>0.014374</td>\n",
       "      <td>-0.035436</td>\n",
       "      <td>-</td>\n",
       "    </tr>\n",
       "    <tr>\n",
       "      <th>5</th>\n",
       "      <td>87</td>\n",
       "      <td>7583</td>\n",
       "      <td>0.011473</td>\n",
       "      <td>-0.230119</td>\n",
       "      <td>-</td>\n",
       "    </tr>\n",
       "    <tr>\n",
       "      <th>6</th>\n",
       "      <td>104</td>\n",
       "      <td>7582</td>\n",
       "      <td>0.013717</td>\n",
       "      <td>-0.079561</td>\n",
       "      <td>-</td>\n",
       "    </tr>\n",
       "    <tr>\n",
       "      <th>7</th>\n",
       "      <td>69</td>\n",
       "      <td>7583</td>\n",
       "      <td>0.009099</td>\n",
       "      <td>-0.389405</td>\n",
       "      <td>-</td>\n",
       "    </tr>\n",
       "    <tr>\n",
       "      <th>8</th>\n",
       "      <td>11</td>\n",
       "      <td>7583</td>\n",
       "      <td>0.001451</td>\n",
       "      <td>-0.902659</td>\n",
       "      <td>-</td>\n",
       "    </tr>\n",
       "    <tr>\n",
       "      <th>9</th>\n",
       "      <td>97</td>\n",
       "      <td>7583</td>\n",
       "      <td>0.012792</td>\n",
       "      <td>-0.141627</td>\n",
       "      <td>-</td>\n",
       "    </tr>\n",
       "  </tbody>\n",
       "</table>\n",
       "</div>"
      ],
      "text/plain": [
       "        Actual  Total  Tx Conversion Rate      Lift Control Conversion Rate\n",
       "Decile                                                                     \n",
       "0          315   7583            0.041540  1.787500               0.0149023\n",
       "1          105   7583            0.013847 -0.070833                       -\n",
       "2          114   7583            0.015034  0.008810                       -\n",
       "3           60   7582            0.007913 -0.468978                       -\n",
       "4          109   7583            0.014374 -0.035436                       -\n",
       "5           87   7583            0.011473 -0.230119                       -\n",
       "6          104   7582            0.013717 -0.079561                       -\n",
       "7           69   7583            0.009099 -0.389405                       -\n",
       "8           11   7583            0.001451 -0.902659                       -\n",
       "9           97   7583            0.012792 -0.141627                       -"
      ]
     },
     "execution_count": 50,
     "metadata": {},
     "output_type": "execute_result"
    }
   ],
   "source": [
    "#treatment conversion rate should decrease as decile number increase\n",
    "tx_conversion_rate"
   ]
  },
  {
   "cell_type": "code",
   "execution_count": null,
   "metadata": {},
   "outputs": [],
   "source": []
  }
 ],
 "metadata": {
  "kernelspec": {
   "display_name": "Python 3",
   "language": "python",
   "name": "python3"
  },
  "language_info": {
   "codemirror_mode": {
    "name": "ipython",
    "version": 3
   },
   "file_extension": ".py",
   "mimetype": "text/x-python",
   "name": "python",
   "nbconvert_exporter": "python",
   "pygments_lexer": "ipython3",
   "version": "3.7.6"
  }
 },
 "nbformat": 4,
 "nbformat_minor": 4
}
